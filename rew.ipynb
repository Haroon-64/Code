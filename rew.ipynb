{
 "cells": [
  {
   "cell_type": "code",
   "execution_count": 16,
   "metadata": {
    "ExecuteTime": {
     "end_time": "2024-03-17T05:21:44.172598Z",
     "start_time": "2024-03-17T05:21:44.167915Z"
    }
   },
   "outputs": [],
   "source": [
    "import os\n",
    "import random\n",
    "import numpy as np\n",
    "import pandas as pd\n",
    "import matplotlib.pyplot as plt\n",
    "import torch\n",
    "import torch.nn as nn\n",
    "import torch.optim as optim\n",
    "from torch.optim.lr_scheduler import ReduceLROnPlateau\n",
    "from torch.utils.tensorboard import SummaryWriter\n",
    "import torch.nn.functional as F\n",
    "import torchvision.transforms.functional as T\n",
    "from torch.utils.data import Dataset, DataLoader\n",
    "from torchvision import transforms\n",
    "from sklearn.model_selection import train_test_split\n",
    "from PIL import Image"
   ]
  },
  {
   "cell_type": "code",
   "execution_count": 17,
   "metadata": {
    "ExecuteTime": {
     "end_time": "2024-03-17T05:21:44.187348Z",
     "start_time": "2024-03-17T05:21:44.183156Z"
    }
   },
   "outputs": [
    {
     "name": "stdout",
     "output_type": "stream",
     "text": [
      "Using device: cuda\n"
     ]
    }
   ],
   "source": [
    "random.seed(42)\n",
    "# Parameters\n",
    "NUM_FILES = None\n",
    "NUM_CLASSES = 6 \n",
    "IMG_SIZE = (100, 100)  \n",
    "BATCH_SIZE = 64  \n",
    "EPOCHS = 25\n",
    "device = torch.device(\"cuda\" if torch.cuda.is_available() else \"cpu\")\n",
    "print(f\"Using device: {device}\")"
   ]
  },
  {
   "cell_type": "code",
   "execution_count": 52,
   "metadata": {
    "ExecuteTime": {
     "end_time": "2024-03-17T06:02:52.436903Z",
     "start_time": "2024-03-17T06:02:52.419630Z"
    }
   },
   "outputs": [],
   "source": [
    "class SpectrogramDataset(Dataset):\n",
    "    \n",
    "    def __init__(self, spectrograms, labels, transform=None) -> None:\n",
    "        self.spectrograms = spectrograms\n",
    "        self.labels = labels\n",
    "        self.transform = transform\n",
    "\n",
    "    def __len__(self) -> int:\n",
    "        return len(self.spectrograms)\n",
    "\n",
    "    def __getitem__(self, idx) -> tuple:\n",
    "        spectrogram = self.spectrograms[idx]\n",
    "        label = self.labels[idx]\n",
    "        \n",
    "        # Clip values to a valid range (e.g., 0 to 255) before conversion\n",
    "        spectrogram = np.clip(spectrogram, 0, 255)\n",
    "\n",
    "        spectrogram = Image.fromarray(spectrogram.astype(np.uint8))\n",
    "        \n",
    "        if spectrogram.mode != 'RGB':\n",
    "            print(spectrogram.mode)\n",
    "            spectrogram = spectrogram.convert('RGB')\n",
    "        \n",
    "        if self.transform:\n",
    "            spectrogram = self.transform(spectrogram)\n",
    "        \n",
    "        return spectrogram, label\n",
    "        \n",
    "\n",
    "\n",
    "def read_data(data_folder, num_files=None) -> tuple[list, list, pd.DataFrame, pd.DataFrame]:\n",
    "    \n",
    "    train_spec_folder = os.path.join(data_folder, 'train_spectrograms')\n",
    "    test_spec_folder = os.path.join(data_folder, 'test_spectrograms')\n",
    "\n",
    "    def read_npy_folder(folder_path, n_files=None) -> tuple[list, list]:\n",
    "        \n",
    "        arrays = []\n",
    "        filenames = []\n",
    "        files_to_read = os.listdir(folder_path)[:n_files] if n_files else os.listdir(folder_path)\n",
    "        for file in files_to_read:\n",
    "            if file.endswith('.npy'):\n",
    "                file_path = os.path.join(folder_path, file)\n",
    "                array = np.load(file_path)\n",
    "                arrays.append(array)\n",
    "                filenames.append(int(file.split('.')[0]))  # Extracting ID from filename\n",
    "        print(f\"Read {len(arrays)} files from {folder_path}.\")\n",
    "        return arrays, filenames\n",
    "\n",
    "    train_spec, train_ids = read_npy_folder(train_spec_folder, num_files)\n",
    "    test_spec, test_ids = read_npy_folder(test_spec_folder)\n",
    "\n",
    "    train_labels = pd.read_csv(os.path.join(data_folder, 'train.csv'))\n",
    "    test_labels = pd.read_csv(os.path.join(data_folder, 'test.csv'))\n",
    "\n",
    "    # Filter labels based on matching ID\n",
    "    train_labels = train_labels[train_labels['spectrogram_id'].isin(train_ids)]\n",
    "    test_labels = test_labels[test_labels['spectrogram_id'].isin(test_ids)]\n",
    "\n",
    "    # Limit the number of labels to match the available data\n",
    "    train_labels = train_labels.head(len(train_spec))\n",
    "    test_labels = test_labels.head(len(test_spec))\n",
    "\n",
    "    return train_spec, test_spec, train_labels, test_labels\n",
    "\n",
    "\n",
    "class CNNModel(nn.Module):\n",
    "    \n",
    "    def __init__(self, num_classes) -> None:\n",
    "        super(CNNModel, self).__init__()\n",
    "        self.conv1 = nn.Conv2d(in_channels=3, out_channels=16, kernel_size=3, stride=1, padding=1)\n",
    "        self.relu1 = nn.ReLU()\n",
    "        self.pool1 = nn.MaxPool2d(kernel_size=2, stride=2)\n",
    "        self.conv2 = nn.Conv2d(in_channels=16, out_channels=32, kernel_size=3, stride=1, padding=1)\n",
    "        self.relu2 = nn.ReLU()\n",
    "        self.pool2 = nn.MaxPool2d(kernel_size=2, stride=2)\n",
    "        # Calculate the correct size of the input to the linear layer\n",
    "        self.pool_output_size = self.calculate_pool_output_size()\n",
    "        # self.flatten = torch.flatten()\n",
    "        self.fc1 = nn.Linear(self.pool_output_size, 128)\n",
    "        self.relu3 = nn.ReLU()\n",
    "        self.dropout = nn.Dropout(0.5)  \n",
    "        self.fc2 = nn.Linear(128, num_classes)\n",
    "        self.batchnorm = nn.BatchNorm1d(128) \n",
    "        \n",
    "    def forward(self, x):\n",
    "        x = self.conv1(x)\n",
    "        x = self.relu1(x)\n",
    "        x = self.pool1(x)\n",
    "        x = self.conv2(x)\n",
    "        x = self.relu2(x)\n",
    "        x = self.pool2(x)\n",
    "        \n",
    "        # Flatten the tensor manually\n",
    "        x = x.view(x.size(0), -1)\n",
    "        \n",
    "        x = self.fc1(x)\n",
    "        x = self.relu3(x)\n",
    "        x = self.dropout(x)  \n",
    "        x = self.batchnorm(x)  \n",
    "        x = self.fc2(x)\n",
    "        return x\n",
    "    \n",
    "    def calculate_pool_output_size(self):\n",
    "        x = torch.randn(1, 3, 100, 100)\n",
    "        x = self.conv1(x)\n",
    "        x = self.relu1(x)\n",
    "        x = self.pool1(x)\n",
    "        x = self.conv2(x)\n",
    "        x = self.relu2(x)\n",
    "        x = self.pool2(x)\n",
    "        \n",
    "        # Calculate the flattened size\n",
    "        return x.size(1) * x.size(2) * x.size(3)\n",
    "    \n",
    "    \n",
    "class EarlyStopping:\n",
    "    def __init__(self, patience=10, verbose=False):\n",
    "        self.patience = patience\n",
    "        self.verbose = verbose\n",
    "        self.counter = 0\n",
    "        self.best_val_loss = float('inf')\n",
    "        self.early_stop = False\n",
    "\n",
    "    def __call__(self, val_loss):\n",
    "        if val_loss < self.best_val_loss:\n",
    "            self.best_val_loss = val_loss\n",
    "            self.counter = 0\n",
    "        else:\n",
    "            self.counter += 1\n",
    "            if self.counter >= self.patience:\n",
    "                self.early_stop = True\n",
    "        \n",
    "        if self.verbose:\n",
    "            if not self.early_stop:\n",
    "                print(f'Validation loss decreased ({self.best_val_loss:.6f} --> {val_loss:.6f}).')\n",
    "            else:\n",
    "                print(f'Early stopping! ({self.patience} epochs with no improvement).')\n",
    "   "
   ]
  },
  {
   "cell_type": "code",
   "execution_count": 19,
   "metadata": {
    "ExecuteTime": {
     "end_time": "2024-03-17T05:22:02.108490Z",
     "start_time": "2024-03-17T05:21:44.227638Z"
    }
   },
   "outputs": [
    {
     "name": "stdout",
     "output_type": "stream",
     "text": [
      "Read 11138 files from data/npy_data/npy_data\\train_spectrograms.\n",
      "Read 1 files from data/npy_data/npy_data\\test_spectrograms.\n"
     ]
    }
   ],
   "source": [
    "# Read data\n",
    "train_spec, test_spec, train_labels, test_labels = read_data('data/npy_data/npy_data', num_files=NUM_FILES)"
   ]
  },
  {
   "cell_type": "code",
   "execution_count": 20,
   "metadata": {
    "ExecuteTime": {
     "end_time": "2024-03-17T05:22:02.114306Z",
     "start_time": "2024-03-17T05:22:02.109497Z"
    }
   },
   "outputs": [
    {
     "data": {
      "text/plain": "(11138, (11138, 15))"
     },
     "execution_count": 20,
     "metadata": {},
     "output_type": "execute_result"
    }
   ],
   "source": [
    "len(train_spec),train_labels.shape"
   ]
  },
  {
   "cell_type": "code",
   "execution_count": 21,
   "metadata": {
    "ExecuteTime": {
     "end_time": "2024-03-17T05:22:02.153608Z",
     "start_time": "2024-03-17T05:22:02.115310Z"
    }
   },
   "outputs": [],
   "source": [
    "Xt, Xv, yt, yv = train_test_split(\n",
    "    train_spec, train_labels,\n",
    "    test_size=0.2,\n",
    "    random_state=42,\n",
    "    shuffle=True\n",
    ")\n"
   ]
  },
  {
   "cell_type": "code",
   "execution_count": 22,
   "metadata": {
    "ExecuteTime": {
     "end_time": "2024-03-17T05:22:02.164280Z",
     "start_time": "2024-03-17T05:22:02.155653Z"
    }
   },
   "outputs": [
    {
     "data": {
      "text/plain": "       seizure_vote  lpd_vote  gpd_vote  lrda_vote  grda_vote  other_vote\n5967              0         0         0          1          0           2\n10616             0         1         0          8          0           4\n6615              1         1         0          7          0           3\n8459              0         1         0          2          0           0\n4881              0         0         3          0          0           0\n...             ...       ...       ...        ...        ...         ...\n5734              0         0         0          0          1           0\n5191              3         0         0          0          0           0\n5390              0         0         0          3          0           0\n860               1         0         9          0          0           3\n7270              3         0         0          0          0           0\n\n[8910 rows x 6 columns]",
      "text/html": "<div>\n<style scoped>\n    .dataframe tbody tr th:only-of-type {\n        vertical-align: middle;\n    }\n\n    .dataframe tbody tr th {\n        vertical-align: top;\n    }\n\n    .dataframe thead th {\n        text-align: right;\n    }\n</style>\n<table border=\"1\" class=\"dataframe\">\n  <thead>\n    <tr style=\"text-align: right;\">\n      <th></th>\n      <th>seizure_vote</th>\n      <th>lpd_vote</th>\n      <th>gpd_vote</th>\n      <th>lrda_vote</th>\n      <th>grda_vote</th>\n      <th>other_vote</th>\n    </tr>\n  </thead>\n  <tbody>\n    <tr>\n      <th>5967</th>\n      <td>0</td>\n      <td>0</td>\n      <td>0</td>\n      <td>1</td>\n      <td>0</td>\n      <td>2</td>\n    </tr>\n    <tr>\n      <th>10616</th>\n      <td>0</td>\n      <td>1</td>\n      <td>0</td>\n      <td>8</td>\n      <td>0</td>\n      <td>4</td>\n    </tr>\n    <tr>\n      <th>6615</th>\n      <td>1</td>\n      <td>1</td>\n      <td>0</td>\n      <td>7</td>\n      <td>0</td>\n      <td>3</td>\n    </tr>\n    <tr>\n      <th>8459</th>\n      <td>0</td>\n      <td>1</td>\n      <td>0</td>\n      <td>2</td>\n      <td>0</td>\n      <td>0</td>\n    </tr>\n    <tr>\n      <th>4881</th>\n      <td>0</td>\n      <td>0</td>\n      <td>3</td>\n      <td>0</td>\n      <td>0</td>\n      <td>0</td>\n    </tr>\n    <tr>\n      <th>...</th>\n      <td>...</td>\n      <td>...</td>\n      <td>...</td>\n      <td>...</td>\n      <td>...</td>\n      <td>...</td>\n    </tr>\n    <tr>\n      <th>5734</th>\n      <td>0</td>\n      <td>0</td>\n      <td>0</td>\n      <td>0</td>\n      <td>1</td>\n      <td>0</td>\n    </tr>\n    <tr>\n      <th>5191</th>\n      <td>3</td>\n      <td>0</td>\n      <td>0</td>\n      <td>0</td>\n      <td>0</td>\n      <td>0</td>\n    </tr>\n    <tr>\n      <th>5390</th>\n      <td>0</td>\n      <td>0</td>\n      <td>0</td>\n      <td>3</td>\n      <td>0</td>\n      <td>0</td>\n    </tr>\n    <tr>\n      <th>860</th>\n      <td>1</td>\n      <td>0</td>\n      <td>9</td>\n      <td>0</td>\n      <td>0</td>\n      <td>3</td>\n    </tr>\n    <tr>\n      <th>7270</th>\n      <td>3</td>\n      <td>0</td>\n      <td>0</td>\n      <td>0</td>\n      <td>0</td>\n      <td>0</td>\n    </tr>\n  </tbody>\n</table>\n<p>8910 rows × 6 columns</p>\n</div>"
     },
     "execution_count": 22,
     "metadata": {},
     "output_type": "execute_result"
    }
   ],
   "source": [
    "y_train = yt.iloc[:, 9:]\n",
    "y_val = yv.iloc[:, 9:]\n",
    "pd.DataFrame(y_train)"
   ]
  },
  {
   "cell_type": "code",
   "execution_count": 23,
   "metadata": {
    "ExecuteTime": {
     "end_time": "2024-03-17T05:22:02.180391Z",
     "start_time": "2024-03-17T05:22:02.165286Z"
    }
   },
   "outputs": [],
   "source": [
    "y_train = y_train.apply(pd.to_numeric, errors='coerce')\n",
    "y_train.fillna(0, inplace=True)\n",
    "y_train_normalized = y_train.div(y_train.sum(axis=1), axis=0)\n",
    "weights = y_train.sum(axis=1)  # Calculate weights based on number of voters per row\n",
    "y_train_normalized = y_train_normalized.mul(weights, axis=0)\n",
    "y_train_normalized = y_train_normalized.div(y_train_normalized.sum(axis=1), axis=0)\n",
    "y_train = torch.tensor(y_train_normalized.values, dtype=torch.float32)"
   ]
  },
  {
   "cell_type": "code",
   "execution_count": 24,
   "metadata": {
    "ExecuteTime": {
     "end_time": "2024-03-17T05:22:02.192677Z",
     "start_time": "2024-03-17T05:22:02.181448Z"
    }
   },
   "outputs": [],
   "source": [
    "y_val = y_val.apply(pd.to_numeric, errors='coerce')\n",
    "y_val.fillna(0, inplace=True)\n",
    "y_val_normalized = y_val.div(y_val.sum(axis=1), axis=0)\n",
    "weights = y_val.sum(axis=1)\n",
    "y_val_normalized = y_val_normalized.mul(weights, axis=0)\n",
    "y_val_normalized = y_val_normalized.div(y_val_normalized.sum(axis=1), axis=0)\n",
    "y_val = torch.tensor(y_val_normalized.values, dtype=torch.float32)"
   ]
  },
  {
   "cell_type": "code",
   "outputs": [
    {
     "data": {
      "text/plain": "       seizure_vote  lpd_vote  gpd_vote  lrda_vote  grda_vote  other_vote\n0                 3         0         0          0          0           0\n1                 3         0         0          0          0           0\n2                 3         0         0          0          0           0\n3                 3         0         0          0          0           0\n4                 3         0         0          0          0           0\n...             ...       ...       ...        ...        ...         ...\n11133             3         0         0          0          0           0\n11134             3         0         0          0          0           0\n11135             3         0         0          0          0           0\n11136             3         0         0          0          0           0\n11137             3         0         0          0          0           0\n\n[11138 rows x 6 columns]",
      "text/html": "<div>\n<style scoped>\n    .dataframe tbody tr th:only-of-type {\n        vertical-align: middle;\n    }\n\n    .dataframe tbody tr th {\n        vertical-align: top;\n    }\n\n    .dataframe thead th {\n        text-align: right;\n    }\n</style>\n<table border=\"1\" class=\"dataframe\">\n  <thead>\n    <tr style=\"text-align: right;\">\n      <th></th>\n      <th>seizure_vote</th>\n      <th>lpd_vote</th>\n      <th>gpd_vote</th>\n      <th>lrda_vote</th>\n      <th>grda_vote</th>\n      <th>other_vote</th>\n    </tr>\n  </thead>\n  <tbody>\n    <tr>\n      <th>0</th>\n      <td>3</td>\n      <td>0</td>\n      <td>0</td>\n      <td>0</td>\n      <td>0</td>\n      <td>0</td>\n    </tr>\n    <tr>\n      <th>1</th>\n      <td>3</td>\n      <td>0</td>\n      <td>0</td>\n      <td>0</td>\n      <td>0</td>\n      <td>0</td>\n    </tr>\n    <tr>\n      <th>2</th>\n      <td>3</td>\n      <td>0</td>\n      <td>0</td>\n      <td>0</td>\n      <td>0</td>\n      <td>0</td>\n    </tr>\n    <tr>\n      <th>3</th>\n      <td>3</td>\n      <td>0</td>\n      <td>0</td>\n      <td>0</td>\n      <td>0</td>\n      <td>0</td>\n    </tr>\n    <tr>\n      <th>4</th>\n      <td>3</td>\n      <td>0</td>\n      <td>0</td>\n      <td>0</td>\n      <td>0</td>\n      <td>0</td>\n    </tr>\n    <tr>\n      <th>...</th>\n      <td>...</td>\n      <td>...</td>\n      <td>...</td>\n      <td>...</td>\n      <td>...</td>\n      <td>...</td>\n    </tr>\n    <tr>\n      <th>11133</th>\n      <td>3</td>\n      <td>0</td>\n      <td>0</td>\n      <td>0</td>\n      <td>0</td>\n      <td>0</td>\n    </tr>\n    <tr>\n      <th>11134</th>\n      <td>3</td>\n      <td>0</td>\n      <td>0</td>\n      <td>0</td>\n      <td>0</td>\n      <td>0</td>\n    </tr>\n    <tr>\n      <th>11135</th>\n      <td>3</td>\n      <td>0</td>\n      <td>0</td>\n      <td>0</td>\n      <td>0</td>\n      <td>0</td>\n    </tr>\n    <tr>\n      <th>11136</th>\n      <td>3</td>\n      <td>0</td>\n      <td>0</td>\n      <td>0</td>\n      <td>0</td>\n      <td>0</td>\n    </tr>\n    <tr>\n      <th>11137</th>\n      <td>3</td>\n      <td>0</td>\n      <td>0</td>\n      <td>0</td>\n      <td>0</td>\n      <td>0</td>\n    </tr>\n  </tbody>\n</table>\n<p>11138 rows × 6 columns</p>\n</div>"
     },
     "execution_count": 36,
     "metadata": {},
     "output_type": "execute_result"
    }
   ],
   "source": [
    "train_labels = train_labels.iloc[:, 9:]\n",
    "pd.DataFrame(train_labels)"
   ],
   "metadata": {
    "collapsed": false,
    "ExecuteTime": {
     "end_time": "2024-03-17T05:38:26.382836Z",
     "start_time": "2024-03-17T05:38:26.373663Z"
    }
   },
   "execution_count": 36
  },
  {
   "cell_type": "code",
   "outputs": [],
   "source": [
    "train_labels = train_labels.apply(pd.to_numeric, errors='coerce')\n",
    "train_labels.fillna(0, inplace=True)\n",
    "train_labels_normalized = train_labels.div(train_labels.sum(axis=1), axis=0)\n",
    "weights_labels = train_labels.sum(axis=1)  # Calculate weights based on number of voters per row\n",
    "train_labels_normalized = train_labels_normalized.mul(weights_labels, axis=0)\n",
    "train_labels_normalized = train_labels_normalized.div(train_labels_normalized.sum(axis=1), axis=0)\n",
    "train_labels = torch.tensor(train_labels_normalized.values, dtype=torch.float32)\n"
   ],
   "metadata": {
    "collapsed": false,
    "ExecuteTime": {
     "end_time": "2024-03-17T05:38:32.273738Z",
     "start_time": "2024-03-17T05:38:32.263137Z"
    }
   },
   "execution_count": 37
  },
  {
   "cell_type": "code",
   "execution_count": 25,
   "metadata": {
    "ExecuteTime": {
     "end_time": "2024-03-17T05:22:02.201911Z",
     "start_time": "2024-03-17T05:22:02.193684Z"
    }
   },
   "outputs": [
    {
     "data": {
      "text/plain": "(True, True)"
     },
     "execution_count": 25,
     "metadata": {},
     "output_type": "execute_result"
    }
   ],
   "source": [
    "np.allclose(y_train_normalized.sum(axis=1), 1),np.allclose(y_val_normalized.sum(axis=1), 1)"
   ]
  },
  {
   "cell_type": "code",
   "execution_count": 26,
   "metadata": {
    "ExecuteTime": {
     "end_time": "2024-03-17T05:22:03.805697Z",
     "start_time": "2024-03-17T05:22:02.202968Z"
    }
   },
   "outputs": [],
   "source": [
    "model = CNNModel(num_classes=NUM_CLASSES)\n",
    "model.to(device)\n",
    "transform = transforms.Compose([\n",
    "    transforms.Resize(IMG_SIZE),\n",
    "    transforms.RandomHorizontalFlip(), \n",
    "    transforms.RandomVerticalFlip(), \n",
    "    transforms.RandomRotation(10),  \n",
    "    transforms.ColorJitter(brightness=0.2, contrast=0.2, saturation=0.2, hue=0.1),  \n",
    "    transforms.ToTensor(),  \n",
    "    transforms.Lambda(lambda x: T.gaussian_blur(x, kernel_size=[5], sigma=[2])),  # Gaussian blur with kernel size 5 and sigma 2\n",
    "    transforms.Normalize(mean=[0.5, 0.5, 0.5], std=[0.5, 0.5, 0.5]) \n",
    "])\n",
    "\n",
    "train_dataset = SpectrogramDataset(Xt, y_train, transform=transform)\n",
    "val_dataset = SpectrogramDataset(Xv, y_val, transform=transform)\n",
    "train_loader = DataLoader(train_dataset, batch_size=BATCH_SIZE, shuffle=True)\n",
    "val_loader = DataLoader(val_dataset, batch_size=BATCH_SIZE)\n",
    "\n",
    "criterion = nn.KLDivLoss(reduction='batchmean')\n",
    "optimizer = optim.Adam(model.parameters(), lr=0.001)"
   ]
  },
  {
   "cell_type": "code",
   "execution_count": 27,
   "metadata": {
    "ExecuteTime": {
     "end_time": "2024-03-17T05:22:03.811170Z",
     "start_time": "2024-03-17T05:22:03.806703Z"
    }
   },
   "outputs": [
    {
     "data": {
      "text/plain": "(8910, 2228)"
     },
     "execution_count": 27,
     "metadata": {},
     "output_type": "execute_result"
    }
   ],
   "source": [
    "len(train_dataset),len(val_dataset)"
   ]
  },
  {
   "cell_type": "code",
   "execution_count": 28,
   "metadata": {
    "ExecuteTime": {
     "end_time": "2024-03-17T05:22:03.823456Z",
     "start_time": "2024-03-17T05:22:03.813175Z"
    }
   },
   "outputs": [
    {
     "name": "stderr",
     "output_type": "stream",
     "text": [
      "C:\\Users\\Haroon\\anaconda3\\envs\\torch\\Lib\\site-packages\\torch\\optim\\lr_scheduler.py:28: UserWarning: The verbose parameter is deprecated. Please use get_last_lr() to access the learning rate.\n",
      "  warnings.warn(\"The verbose parameter is deprecated. Please use get_last_lr() \"\n"
     ]
    }
   ],
   "source": [
    "writer = SummaryWriter()\n",
    "scheduler = ReduceLROnPlateau(optimizer, mode='min', factor=0.1, patience=5, verbose=True)\n",
    "early_stopping = EarlyStopping(patience=10, verbose=True)"
   ]
  },
  {
   "cell_type": "code",
   "execution_count": 29,
   "metadata": {
    "ExecuteTime": {
     "end_time": "2024-03-17T05:31:57.141142Z",
     "start_time": "2024-03-17T05:22:03.824462Z"
    }
   },
   "outputs": [
    {
     "name": "stderr",
     "output_type": "stream",
     "text": [
      "C:\\Users\\Haroon\\AppData\\Local\\Temp\\ipykernel_13528\\2380741758.py:18: RuntimeWarning: invalid value encountered in cast\n",
      "  spectrogram = Image.fromarray(spectrogram.astype(np.uint8))\n"
     ]
    },
    {
     "name": "stdout",
     "output_type": "stream",
     "text": [
      "Validation loss decreased (1.393376 --> 1.393376).\n",
      "Epoch 1/25, Training Loss: 1.4306, Validation Loss: 1.3934\n",
      "Validation loss decreased (1.389050 --> 1.389050).\n",
      "Validation loss decreased (1.389050 --> 1.390199).\n",
      "Validation loss decreased (1.389050 --> 1.390167).\n",
      "Validation loss decreased (1.389050 --> 1.389472).\n",
      "Validation loss decreased (1.389050 --> 1.390615).\n",
      "Validation loss decreased (1.389050 --> 1.389623).\n",
      "Validation loss decreased (1.389050 --> 1.392191).\n",
      "Validation loss decreased (1.389050 --> 1.389857).\n",
      "Validation loss decreased (1.389050 --> 1.389451).\n",
      "Validation loss decreased (1.389050 --> 1.389801).\n",
      "Epoch 11/25, Training Loss: 1.3843, Validation Loss: 1.3898\n",
      "Early stopping! (10 epochs with no improvement).\n",
      "Early stopping!\n"
     ]
    }
   ],
   "source": [
    "train_losses = []\n",
    "val_losses = []\n",
    "\n",
    "for epoch in range(EPOCHS):\n",
    "    model.train()\n",
    "    running_loss = 0.0\n",
    "    for inputs, labels in train_loader:\n",
    "        inputs, labels = inputs.to(device), labels.to(device)  \n",
    "        optimizer.zero_grad()\n",
    "        outputs = model(inputs)\n",
    "        loss = criterion(F.log_softmax(outputs, dim=1), labels)\n",
    "        loss.backward()\n",
    "        optimizer.step()\n",
    "        running_loss += loss.item() * inputs.size(0)\n",
    "    \n",
    "    epoch_loss = running_loss / len(train_loader.dataset)\n",
    "    writer.add_scalar('Loss/train', epoch_loss, epoch)  # Log training loss to TensorBoard\n",
    "\n",
    "    # Validation\n",
    "    model.eval()\n",
    "    validation_loss = 0.0\n",
    "    with torch.no_grad():\n",
    "        for inputs, labels in val_loader:\n",
    "            inputs, labels = inputs.to(device), labels.to(device)  \n",
    "            outputs = model(inputs)\n",
    "            loss = criterion(F.log_softmax(outputs, dim=1), labels)\n",
    "            validation_loss += loss.item() * inputs.size(0)\n",
    "\n",
    "    epoch_val_loss = validation_loss / len(val_loader.dataset)\n",
    "    writer.add_scalar('Loss/val', epoch_val_loss, epoch)  # Log validation loss to TensorBoard\n",
    "\n",
    "    scheduler.step(epoch_val_loss)  # Update learning rate based on validation loss\n",
    "    early_stopping(epoch_val_loss)  # Check for early stopping\n",
    "\n",
    "    if early_stopping.early_stop:\n",
    "        print(\"Early stopping!\")\n",
    "        break\n",
    "\n",
    "    if epoch % 10 == 0:\n",
    "        print(f\"Epoch {epoch+1}/{EPOCHS}, Training Loss: {epoch_loss:.4f}, Validation Loss: {epoch_val_loss:.4f}\")\n",
    "\n",
    "    # Save losses for plotting\n",
    "    train_losses.append(epoch_loss)\n",
    "    val_losses.append(epoch_val_loss)"
   ]
  },
  {
   "cell_type": "code",
   "outputs": [
    {
     "data": {
      "text/plain": "<Figure size 640x480 with 1 Axes>",
      "image/png": "[encoded data removed]"
     },
     "metadata": {},
     "output_type": "display_data"
    }
   ],
   "source": [
    "# Plot losses\n",
    "plt.plot(range(1, len(train_losses) + 1), train_losses, label='Training Loss')\n",
    "plt.plot(range(1, len(val_losses) + 1), val_losses, label='Validation Loss')\n",
    "plt.xlabel('Epoch')\n",
    "plt.ylabel('Loss')\n",
    "plt.title('Training and Validation Losses')\n",
    "plt.legend()\n",
    "plt.show()"
   ],
   "metadata": {
    "collapsed": false,
    "ExecuteTime": {
     "end_time": "2024-03-17T05:31:57.696905Z",
     "start_time": "2024-03-17T05:31:57.142150Z"
    }
   },
   "execution_count": 30
  },
  {
   "cell_type": "code",
   "execution_count": 34,
   "metadata": {
    "ExecuteTime": {
     "end_time": "2024-03-17T05:35:30.950804Z",
     "start_time": "2024-03-17T05:35:30.947619Z"
    }
   },
   "outputs": [],
   "source": [
    "writer.close()"
   ]
  },
  {
   "cell_type": "code",
   "outputs": [],
   "source": [
    "def convert_to_rgb(spectrogram):\n",
    "    # Normalize spectrogram to range [0, 255]\n",
    "    spectrogram = (spectrogram - np.min(spectrogram)) / (np.max(spectrogram) - np.min(spectrogram)) * 255\n",
    "    # Convert to PIL Image\n",
    "    spectrogram_image = Image.fromarray(spectrogram.astype('uint8'), 'L')\n",
    "    # Resize to 100x100\n",
    "    resize_transform = transforms.Resize((100, 100))\n",
    "    spectrogram_image = resize_transform(spectrogram_image)\n",
    "    # Convert to RGB\n",
    "    spectrogram_rgb = spectrogram_image.convert('RGB')\n",
    "    return spectrogram_rgb"
   ],
   "metadata": {
    "collapsed": false,
    "ExecuteTime": {
     "end_time": "2024-03-17T06:26:02.346571Z",
     "start_time": "2024-03-17T06:26:02.342595Z"
    }
   },
   "execution_count": 85
  },
  {
   "cell_type": "code",
   "outputs": [],
   "source": [
    "def predict_and_save(model, data, filename='submission.csv'):\n",
    "    model.eval()\n",
    "    with torch.no_grad():\n",
    "        spectrogram = data[0]  # Extract the single example from the list\n",
    "        spectrogram_rgb = convert_to_rgb(spectrogram)  # Convert to RGB\n",
    "        spectrogram_rgb = np.array(spectrogram_rgb)  # Convert PIL Image to numpy array\n",
    "        spectrogram_rgb = spectrogram_rgb.transpose(2, 0, 1)  # Transpose to (channels, height, width) format\n",
    "        spectrogram_rgb = torch.from_numpy(spectrogram_rgb)  # Convert to torch tensor\n",
    "        spectrogram_rgb = spectrogram_rgb.unsqueeze(0)  # Add batch dimension\n",
    "        spectrogram_rgb = spectrogram_rgb.to(device, dtype=torch.float32)  # Convert to the correct data type\n",
    "\n",
    "        # Perform inference on the preprocessed spectrogram\n",
    "        outputs = model(spectrogram_rgb)\n",
    "        probabilities = torch.sigmoid(outputs)  # Sigmoid to get probabilities\n",
    "        normalized_probs = probabilities / probabilities.sum()  # Normalize probabilities using KL Divergence\n",
    "\n",
    "    # Create a DataFrame with the normalized probabilities\n",
    "    columns = ['seizure_vote', 'lpd_vote', 'gpd_vote', 'lrda_vote', 'grda_vote', 'other_vote']\n",
    "    df = pd.DataFrame([normalized_probs.cpu().numpy().squeeze()], columns=columns)\n",
    "\n",
    "    # Add the eeg_id column based on the extracted label\n",
    "    df.insert(0, 'eeg_id', test_labels['eeg_id'].iloc[0])\n",
    "\n",
    "    # Get the current working directory\n",
    "    current_dir = os.getcwd()\n",
    "    # Combine the current directory and filename to get the full path\n",
    "    full_path = os.path.join(current_dir, filename)\n",
    "    \n",
    "    # Reorder columns with 'eeg_id' as the first column\n",
    "    df = df[['eeg_id', 'seizure_vote', 'lpd_vote', 'gpd_vote', 'lrda_vote', 'grda_vote', 'other_vote']]\n",
    "    \n",
    "    # Save the DataFrame to a CSV file in the current directory\n",
    "    df.to_csv(full_path, index=False)"
   ],
   "metadata": {
    "collapsed": false,
    "ExecuteTime": {
     "end_time": "2024-03-17T06:26:11.573147Z",
     "start_time": "2024-03-17T06:26:11.567431Z"
    }
   },
   "execution_count": 86
  },
  {
   "cell_type": "code",
   "execution_count": 35,
   "metadata": {
    "ExecuteTime": {
     "end_time": "2024-03-17T05:35:44.358388Z",
     "start_time": "2024-03-17T05:35:44.331061Z"
    }
   },
   "outputs": [],
   "source": [
    "# torch.save(model, os.getcwd() + \"/saved_models/model_ini\")\n",
    "# model = torch.load(os.getcwd() + \"/saved_models/model\")"
   ]
  },
  {
   "cell_type": "code",
   "outputs": [],
   "source": [
    "predict_and_save(model, test_spec, filename='submission.csv')\n"
   ],
   "metadata": {
    "collapsed": false,
    "ExecuteTime": {
     "end_time": "2024-03-17T06:26:13.484609Z",
     "start_time": "2024-03-17T06:26:13.474971Z"
    }
   },
   "execution_count": 87
  }
 ],
 "metadata": {
  "kernelspec": {
   "display_name": "torch",
   "language": "python",
   "name": "python3"
  },
  "language_info": {
   "codemirror_mode": {
    "name": "ipython",
    "version": 3
   },
   "file_extension": ".py",
   "mimetype": "text/x-python",
   "name": "python",
   "nbconvert_exporter": "python",
   "pygments_lexer": "ipython3",
   "version": "3.11.8"
  }
 },
 "nbformat": 4,
 "nbformat_minor": 2
}
