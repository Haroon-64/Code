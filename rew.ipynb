{
 "cells": [
  {
   "cell_type": "code",
   "execution_count": 15,
   "metadata": {},
   "outputs": [],
   "source": [
    "import os\n",
    "import numpy as np\n",
    "import pandas as pd\n",
    "import torch\n",
    "import torch.nn as nn\n",
    "import torch.optim as optim\n",
    "import torch.nn.functional as F\n",
    "from torch.utils.data import Dataset, DataLoader\n",
    "from torchvision import transforms\n",
    "from sklearn.model_selection import train_test_split\n",
    "from PIL import Image"
   ]
  },
  {
   "cell_type": "code",
   "execution_count": 4,
   "metadata": {},
   "outputs": [
    {
     "name": "stdout",
     "output_type": "stream",
     "text": [
      "Using device: cuda\n"
     ]
    }
   ],
   "source": [
    "# Parameters\n",
    "NUM_FILES = None\n",
    "NUM_CLASSES = 6 \n",
    "IMG_SIZE = (100, 100)  \n",
    "BATCH_SIZE = 64  \n",
    "EPOCHS = 100\n",
    "device = torch.device(\"cuda\" if torch.cuda.is_available() else \"cpu\")\n",
    "print(f\"Using device: {device}\")"
   ]
  },
  {
   "cell_type": "code",
   "execution_count": 24,
   "metadata": {},
   "outputs": [],
   "source": [
    "class SpectrogramDataset(Dataset):\n",
    "    # don't understand data loaders\n",
    "    def __init__(self, spectrograms, labels, transform=None) -> None:\n",
    "        self.spectrograms = spectrograms\n",
    "        self.labels = labels\n",
    "        self.transform = transform\n",
    "\n",
    "    def __len__(self) -> int:\n",
    "        return len(self.spectrograms)\n",
    "\n",
    "    def __getitem__(self, idx) -> tuple:\n",
    "        spectrogram = self.spectrograms[idx]\n",
    "        label = self.labels[idx]\n",
    "        if self.transform:\n",
    "            spectrogram = Image.fromarray(spectrogram)\n",
    "            if spectrogram.mode != 'RGB':\n",
    "                spectrogram = spectrogram.convert('RGB')\n",
    "            spectrogram = self.transform(spectrogram)\n",
    "        return spectrogram, label\n",
    "\n",
    "\n",
    "def read_data(data_folder, num_files=None) -> tuple[list, list, pd.DataFrame, pd.DataFrame]:\n",
    "    train_spec_folder = os.path.join(data_folder, 'train_spectrograms')\n",
    "    test_spec_folder = os.path.join(data_folder, 'test_spectrograms')\n",
    "\n",
    "    def read_npy_folder(folder_path, n_files=None) -> tuple[list, list]:\n",
    "        arrays = []\n",
    "        filenames = []\n",
    "        files_to_read = os.listdir(folder_path)[:n_files] if n_files else os.listdir(folder_path)\n",
    "        for file in files_to_read:\n",
    "            if file.endswith('.npy'):\n",
    "                file_path = os.path.join(folder_path, file)\n",
    "                array = np.load(file_path)\n",
    "                arrays.append(array)\n",
    "                filenames.append(int(file.split('.')[0]))  # Extracting ID from filename\n",
    "        print(f\"Read {len(arrays)} files from {folder_path}.\")\n",
    "        return arrays, filenames\n",
    "\n",
    "    train_spec, train_ids = read_npy_folder(train_spec_folder, num_files)\n",
    "    test_spec, test_ids = read_npy_folder(test_spec_folder)\n",
    "\n",
    "    train_labels = pd.read_csv(os.path.join(data_folder, 'train.csv'))\n",
    "    test_labels = pd.read_csv(os.path.join(data_folder, 'test.csv'))\n",
    "\n",
    "    # Filter labels based on matching ID\n",
    "    train_labels = train_labels[train_labels['spectrogram_id'].isin(train_ids)]\n",
    "    test_labels = test_labels[test_labels['spectrogram_id'].isin(test_ids)]\n",
    "\n",
    "    # Limit the number of labels to match the available data\n",
    "    train_labels = train_labels.head(len(train_spec))\n",
    "    test_labels = test_labels.head(len(test_spec))\n",
    "\n",
    "    return train_spec, test_spec, train_labels, test_labels\n",
    "\n",
    "# Define your model architecture\n",
    "class CNNModel(nn.Module):\n",
    "    def __init__(self, num_classes) -> None:\n",
    "        super(CNNModel, self).__init__()\n",
    "        self.conv1 = nn.Conv2d(in_channels=3, out_channels=16, kernel_size=3, stride=1, padding=1)\n",
    "        self.relu1 = nn.ReLU()\n",
    "        self.pool1 = nn.MaxPool2d(kernel_size=2, stride=2)\n",
    "        self.conv2 = nn.Conv2d(in_channels=16, out_channels=32, kernel_size=3, stride=1, padding=1)\n",
    "        self.relu2 = nn.ReLU()\n",
    "        self.pool2 = nn.MaxPool2d(kernel_size=2, stride=2)\n",
    "\n",
    "        # Calculate the correct size of the input to the linear layer\n",
    "        self.pool_output_size = self.calculate_pool_output_size()\n",
    "        # self.flatten = torch.flatten()\n",
    "        self.fc1 = nn.Linear(self.pool_output_size, 128)\n",
    "        self.relu3 = nn.ReLU()\n",
    "        self.dropout = nn.Dropout(0.5)  \n",
    "        self.fc2 = nn.Linear(128, num_classes)\n",
    "        self.batchnorm = nn.BatchNorm1d(128) \n",
    "        \n",
    "    def forward(self, x):\n",
    "        x = self.conv1(x)\n",
    "        x = self.relu1(x)\n",
    "        x = self.pool1(x)\n",
    "        x = self.conv2(x)\n",
    "        x = self.relu2(x)\n",
    "        x = self.pool2(x)\n",
    "        \n",
    "        # Flatten the tensor manually\n",
    "        x = x.view(x.size(0), -1)\n",
    "        \n",
    "        x = self.fc1(x)\n",
    "        x = self.relu3(x)\n",
    "        x = self.dropout(x)  \n",
    "        x = self.batchnorm(x)  \n",
    "        x = self.fc2(x)\n",
    "        return x\n",
    "    \n",
    "    def calculate_pool_output_size(self):\n",
    "        x = torch.randn(1, 3, 100, 100)\n",
    "        x = self.conv1(x)\n",
    "        x = self.relu1(x)\n",
    "        x = self.pool1(x)\n",
    "        x = self.conv2(x)\n",
    "        x = self.relu2(x)\n",
    "        x = self.pool2(x)\n",
    "        \n",
    "        # Calculate the flattened size\n",
    "        return x.size(1) * x.size(2) * x.size(3)"
   ]
  },
  {
   "cell_type": "code",
   "execution_count": 7,
   "metadata": {},
   "outputs": [
    {
     "name": "stdout",
     "output_type": "stream",
     "text": [
      "Read 11138 files from data/npy_data/npy_data\\train_spectrograms.\n",
      "Read 1 files from data/npy_data/npy_data\\test_spectrograms.\n"
     ]
    }
   ],
   "source": [
    "# Read data\n",
    "train_spec, test_spec, train_labels, test_labels = read_data('data/npy_data/npy_data', num_files=NUM_FILES)"
   ]
  },
  {
   "cell_type": "code",
   "execution_count": 8,
   "metadata": {},
   "outputs": [
    {
     "data": {
      "text/plain": [
       "(11138, (11138, 15))"
      ]
     },
     "execution_count": 8,
     "metadata": {},
     "output_type": "execute_result"
    }
   ],
   "source": [
    "len(train_spec),train_labels.shape"
   ]
  },
  {
   "cell_type": "code",
   "execution_count": 9,
   "metadata": {},
   "outputs": [],
   "source": [
    "Xt, Xv, yt, yv = train_test_split(\n",
    "    train_spec, train_labels,\n",
    "    test_size=0.2,\n",
    "    random_state=42,\n",
    "    shuffle=True\n",
    ")\n"
   ]
  },
  {
   "cell_type": "code",
   "execution_count": 10,
   "metadata": {},
   "outputs": [
    {
     "data": {
      "text/html": [
       "<div>\n",
       "<style scoped>\n",
       "    .dataframe tbody tr th:only-of-type {\n",
       "        vertical-align: middle;\n",
       "    }\n",
       "\n",
       "    .dataframe tbody tr th {\n",
       "        vertical-align: top;\n",
       "    }\n",
       "\n",
       "    .dataframe thead th {\n",
       "        text-align: right;\n",
       "    }\n",
       "</style>\n",
       "<table border=\"1\" class=\"dataframe\">\n",
       "  <thead>\n",
       "    <tr style=\"text-align: right;\">\n",
       "      <th></th>\n",
       "      <th>seizure_vote</th>\n",
       "      <th>lpd_vote</th>\n",
       "      <th>gpd_vote</th>\n",
       "      <th>lrda_vote</th>\n",
       "      <th>grda_vote</th>\n",
       "      <th>other_vote</th>\n",
       "    </tr>\n",
       "  </thead>\n",
       "  <tbody>\n",
       "    <tr>\n",
       "      <th>5967</th>\n",
       "      <td>0</td>\n",
       "      <td>0</td>\n",
       "      <td>0</td>\n",
       "      <td>1</td>\n",
       "      <td>0</td>\n",
       "      <td>2</td>\n",
       "    </tr>\n",
       "    <tr>\n",
       "      <th>10616</th>\n",
       "      <td>0</td>\n",
       "      <td>1</td>\n",
       "      <td>0</td>\n",
       "      <td>8</td>\n",
       "      <td>0</td>\n",
       "      <td>4</td>\n",
       "    </tr>\n",
       "    <tr>\n",
       "      <th>6615</th>\n",
       "      <td>1</td>\n",
       "      <td>1</td>\n",
       "      <td>0</td>\n",
       "      <td>7</td>\n",
       "      <td>0</td>\n",
       "      <td>3</td>\n",
       "    </tr>\n",
       "    <tr>\n",
       "      <th>8459</th>\n",
       "      <td>0</td>\n",
       "      <td>1</td>\n",
       "      <td>0</td>\n",
       "      <td>2</td>\n",
       "      <td>0</td>\n",
       "      <td>0</td>\n",
       "    </tr>\n",
       "    <tr>\n",
       "      <th>4881</th>\n",
       "      <td>0</td>\n",
       "      <td>0</td>\n",
       "      <td>3</td>\n",
       "      <td>0</td>\n",
       "      <td>0</td>\n",
       "      <td>0</td>\n",
       "    </tr>\n",
       "    <tr>\n",
       "      <th>...</th>\n",
       "      <td>...</td>\n",
       "      <td>...</td>\n",
       "      <td>...</td>\n",
       "      <td>...</td>\n",
       "      <td>...</td>\n",
       "      <td>...</td>\n",
       "    </tr>\n",
       "    <tr>\n",
       "      <th>5734</th>\n",
       "      <td>0</td>\n",
       "      <td>0</td>\n",
       "      <td>0</td>\n",
       "      <td>0</td>\n",
       "      <td>1</td>\n",
       "      <td>0</td>\n",
       "    </tr>\n",
       "    <tr>\n",
       "      <th>5191</th>\n",
       "      <td>3</td>\n",
       "      <td>0</td>\n",
       "      <td>0</td>\n",
       "      <td>0</td>\n",
       "      <td>0</td>\n",
       "      <td>0</td>\n",
       "    </tr>\n",
       "    <tr>\n",
       "      <th>5390</th>\n",
       "      <td>0</td>\n",
       "      <td>0</td>\n",
       "      <td>0</td>\n",
       "      <td>3</td>\n",
       "      <td>0</td>\n",
       "      <td>0</td>\n",
       "    </tr>\n",
       "    <tr>\n",
       "      <th>860</th>\n",
       "      <td>1</td>\n",
       "      <td>0</td>\n",
       "      <td>9</td>\n",
       "      <td>0</td>\n",
       "      <td>0</td>\n",
       "      <td>3</td>\n",
       "    </tr>\n",
       "    <tr>\n",
       "      <th>7270</th>\n",
       "      <td>3</td>\n",
       "      <td>0</td>\n",
       "      <td>0</td>\n",
       "      <td>0</td>\n",
       "      <td>0</td>\n",
       "      <td>0</td>\n",
       "    </tr>\n",
       "  </tbody>\n",
       "</table>\n",
       "<p>8910 rows × 6 columns</p>\n",
       "</div>"
      ],
      "text/plain": [
       "       seizure_vote  lpd_vote  gpd_vote  lrda_vote  grda_vote  other_vote\n",
       "5967              0         0         0          1          0           2\n",
       "10616             0         1         0          8          0           4\n",
       "6615              1         1         0          7          0           3\n",
       "8459              0         1         0          2          0           0\n",
       "4881              0         0         3          0          0           0\n",
       "...             ...       ...       ...        ...        ...         ...\n",
       "5734              0         0         0          0          1           0\n",
       "5191              3         0         0          0          0           0\n",
       "5390              0         0         0          3          0           0\n",
       "860               1         0         9          0          0           3\n",
       "7270              3         0         0          0          0           0\n",
       "\n",
       "[8910 rows x 6 columns]"
      ]
     },
     "execution_count": 10,
     "metadata": {},
     "output_type": "execute_result"
    }
   ],
   "source": [
    "y_train = yt.iloc[:, 9:]\n",
    "y_val = yv.iloc[:, 9:]\n",
    "pd.DataFrame(y_train)"
   ]
  },
  {
   "cell_type": "code",
   "execution_count": 11,
   "metadata": {},
   "outputs": [],
   "source": [
    "y_train = y_train.apply(pd.to_numeric, errors='coerce')\n",
    "y_train.fillna(0, inplace=True)\n",
    "y_train_normalized = y_train.div(y_train.sum(axis=1), axis=0)\n",
    "weights = y_train.sum(axis=1)  # Calculate weights based on number of voters per row\n",
    "y_train_normalized = y_train_normalized.mul(weights, axis=0)\n",
    "y_train_normalized = y_train_normalized.div(y_train_normalized.sum(axis=1), axis=0)\n",
    "y_train = torch.tensor(y_train_normalized.values, dtype=torch.float32)"
   ]
  },
  {
   "cell_type": "code",
   "execution_count": 12,
   "metadata": {},
   "outputs": [],
   "source": [
    "y_val = y_val.apply(pd.to_numeric, errors='coerce')\n",
    "y_val.fillna(0, inplace=True)\n",
    "y_val_normalized = y_val.div(y_val.sum(axis=1), axis=0)\n",
    "weights = y_val.sum(axis=1)\n",
    "y_val_normalized = y_val_normalized.mul(weights, axis=0)\n",
    "y_val_normalized = y_val_normalized.div(y_val_normalized.sum(axis=1), axis=0)\n",
    "y_val = torch.tensor(y_val_normalized.values, dtype=torch.float32)"
   ]
  },
  {
   "cell_type": "code",
   "execution_count": 13,
   "metadata": {},
   "outputs": [
    {
     "data": {
      "text/plain": [
       "(True, True)"
      ]
     },
     "execution_count": 13,
     "metadata": {},
     "output_type": "execute_result"
    }
   ],
   "source": [
    "np.allclose(y_train_normalized.sum(axis=1), 1),np.allclose(y_val_normalized.sum(axis=1), 1)"
   ]
  },
  {
   "cell_type": "code",
   "execution_count": 25,
   "metadata": {},
   "outputs": [],
   "source": [
    "model = CNNModel(num_classes=NUM_CLASSES)\n",
    "model.to(device)\n",
    "transform = transforms.Compose([\n",
    "    transforms.Resize(IMG_SIZE),  \n",
    "    transforms.ToTensor(),       \n",
    "    transforms.Normalize(mean=[0.5, 0.5, 0.5], std=[0.5, 0.5, 0.5]) \n",
    "])\n",
    "\n",
    "train_dataset = SpectrogramDataset(Xt, y_train, transform=transform)\n",
    "val_dataset = SpectrogramDataset(Xv, y_val, transform=transform)\n",
    "train_loader = DataLoader(train_dataset, batch_size=BATCH_SIZE, shuffle=True)\n",
    "val_loader = DataLoader(val_dataset, batch_size=BATCH_SIZE)\n",
    "\n",
    "criterion = nn.KLDivLoss(reduction='batchmean')\n",
    "optimizer = optim.Adam(model.parameters(), lr=0.001)"
   ]
  },
  {
   "cell_type": "code",
   "execution_count": 26,
   "metadata": {},
   "outputs": [
    {
     "data": {
      "text/plain": [
       "(8910, 2228)"
      ]
     },
     "execution_count": 26,
     "metadata": {},
     "output_type": "execute_result"
    }
   ],
   "source": [
    "len(train_dataset),len(val_dataset)"
   ]
  },
  {
   "cell_type": "code",
   "execution_count": null,
   "metadata": {},
   "outputs": [],
   "source": [
    "# # callbacks\n",
    "# callbacks = [\n",
    "#     torch.utils.data.LearningRateScheduler(lambda epoch: 0.001 * 0.8 ** epoch), \n",
    "#     torch.utils.data.ModelCheckpoint(\"best_model.pth\", save_best_only=True),\n",
    "#     torch.utils.data.EarlyStopping(patience=10, restore_best_weights=True),\n",
    "#     torch.utils.data.CSVLogger(\"training.log\"),\n",
    "#     torch.utils.data.TensorBoard()     \n",
    "# ]"
   ]
  },
  {
   "cell_type": "code",
   "execution_count": 27,
   "metadata": {},
   "outputs": [
    {
     "name": "stdout",
     "output_type": "stream",
     "text": [
      "Epoch 1/100, Training Loss: 1.4320\n",
      "Epoch 1/100, Validation Loss: 1.4158\n",
      "Epoch 11/100, Training Loss: 1.3845\n",
      "Epoch 11/100, Validation Loss: 1.3915\n",
      "Epoch 21/100, Training Loss: 1.3832\n",
      "Epoch 21/100, Validation Loss: 1.3906\n",
      "Epoch 31/100, Training Loss: 1.3832\n",
      "Epoch 31/100, Validation Loss: 1.3938\n",
      "Epoch 41/100, Training Loss: 1.3831\n",
      "Epoch 41/100, Validation Loss: 1.3920\n",
      "Epoch 51/100, Training Loss: 1.3829\n",
      "Epoch 51/100, Validation Loss: 1.3927\n",
      "Epoch 61/100, Training Loss: 1.3832\n",
      "Epoch 61/100, Validation Loss: 1.3909\n",
      "Epoch 71/100, Training Loss: 1.3828\n",
      "Epoch 71/100, Validation Loss: 1.3931\n",
      "Epoch 81/100, Training Loss: 1.3833\n",
      "Epoch 81/100, Validation Loss: 1.3914\n",
      "Epoch 91/100, Training Loss: 1.3833\n",
      "Epoch 91/100, Validation Loss: 1.3890\n"
     ]
    }
   ],
   "source": [
    "for epoch in range(EPOCHS):\n",
    "    model.train()\n",
    "    running_loss = 0.0\n",
    "    for inputs, labels in train_loader:\n",
    "        inputs, labels = inputs.to(device), labels.to(device)  \n",
    "        outputs = model(inputs)\n",
    "        loss = criterion(F.log_softmax(outputs, dim=1), labels)\n",
    "        loss.backward()\n",
    "        optimizer.step()\n",
    "        running_loss += loss.item() * inputs.size(0)\n",
    "    \n",
    "    epoch_loss = running_loss / len(train_loader.dataset)\n",
    "    if epoch % 10 == 0:\n",
    "        print(f\"Epoch {epoch+1}/{EPOCHS}, Training Loss: {epoch_loss:.4f}\")\n",
    "\n",
    "    # Validation\n",
    "    model.eval()\n",
    "    validation_loss = 0.0\n",
    "    with torch.no_grad():\n",
    "        for inputs, labels in val_loader:\n",
    "            inputs, labels = inputs.to(device), labels.to(device)  \n",
    "            outputs = model(inputs)\n",
    "            loss = criterion(F.log_softmax(outputs, dim=1), labels)\n",
    "            validation_loss += loss.item() * inputs.size(0)\n",
    "\n",
    "    epoch_val_loss = validation_loss / len(val_loader.dataset)\n",
    "    if epoch % 10 == 0:\n",
    "        print(f\"Epoch {epoch+1}/{EPOCHS}, Validation Loss: {epoch_val_loss:.4f}\")"
   ]
  },
  {
   "cell_type": "code",
   "execution_count": 34,
   "metadata": {},
   "outputs": [],
   "source": [
    "torch.save(model, os.getcwd() + \"/saved_models/model\")"
   ]
  }
 ],
 "metadata": {
  "kernelspec": {
   "display_name": "torch",
   "language": "python",
   "name": "python3"
  },
  "language_info": {
   "codemirror_mode": {
    "name": "ipython",
    "version": 3
   },
   "file_extension": ".py",
   "mimetype": "text/x-python",
   "name": "python",
   "nbconvert_exporter": "python",
   "pygments_lexer": "ipython3",
   "version": "3.11.8"
  }
 },
 "nbformat": 4,
 "nbformat_minor": 2
}
