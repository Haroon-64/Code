{
 "cells": [
  {
   "cell_type": "code",
   "execution_count": 18,
   "metadata": {
    "ExecuteTime": {
     "end_time": "2024-01-29T15:45:24.276045187Z",
     "start_time": "2024-01-29T15:45:24.241753058Z"
    }
   },
   "outputs": [],
   "source": [
    "import os\n",
    "import numpy as np\n",
    "import pandas as pd\n",
    "import tensorflow as tf\n",
    "\n",
    "from sklearn.model_selection import train_test_split\n",
    "from sklearn.preprocessing import LabelEncoder"
   ]
  },
  {
   "cell_type": "code",
   "execution_count": 19,
   "metadata": {},
   "outputs": [],
   "source": [
    "tf.keras.backend.clear_session()"
   ]
  },
  {
   "cell_type": "code",
   "execution_count": 28,
   "metadata": {},
   "outputs": [],
   "source": [
    "NUM_CLASESS = 6\n",
    "NUM_FILES = 10"
   ]
  },
  {
   "cell_type": "code",
   "execution_count": 33,
   "metadata": {
    "ExecuteTime": {
     "end_time": "2024-01-28T12:10:17.045634291Z",
     "start_time": "2024-01-28T12:10:17.001058386Z"
    }
   },
   "outputs": [],
   "source": [
    "def convert_parquet_to_npy(input_folder, output_folder):\n",
    "    npy_output_folder = os.path.join(output_folder, 'npy_data')\n",
    "    \n",
    "    # Ensure the output directory exists\n",
    "    os.makedirs(npy_output_folder, exist_ok=True)\n",
    "    \n",
    "    for root, dirs, files in os.walk(input_folder):\n",
    "        for file in files:\n",
    "            if file.endswith('.parquet'):\n",
    "                parquet_path = os.path.join(root, file)\n",
    "                df = pd.read_parquet(parquet_path)\n",
    "                eeg_data = df.to_numpy()\n",
    "                relative_path = os.path.relpath(parquet_path, input_folder)\n",
    "                \n",
    "                # Create the corresponding directory structure in the npy_data folder\n",
    "                output_subfolder = os.path.join(npy_output_folder, os.path.dirname(relative_path))\n",
    "                os.makedirs(output_subfolder, exist_ok=True)\n",
    "                np.save(os.path.join(output_subfolder, file.replace('.parquet', '.npy')), eeg_data)\n",
    "\n",
    "def read_data(data_folder, num_files=None):\n",
    "    \"\"\"\n",
    "    Read EEG data from .npy files in the specified data folder.\n",
    "\n",
    "    Parameters:\n",
    "    - data_folder (str): Path to the main data folder containing 'train' and 'test' subfolders.\n",
    "    - num_files (int or None): Number of files to read from each subfolder. If None, all files will be read.\n",
    "\n",
    "    Returns:\n",
    "    - train (array[Tuple[np.ndarray, np.ndarray]]): List of tuples containing train EEG data.\n",
    "    - test (array[Tuple[np.ndarray, np.ndarray]]): List of tuples containing test EEG data.\n",
    "    - train_labels (pd.DataFrame): DataFrame containing train labels.\n",
    "    - test_labels (pd.DataFrame): DataFrame containing test labels.\n",
    "    \"\"\"\n",
    "    train_eeg_folder = os.path.join(data_folder, 'train_eegs')\n",
    "    test_eeg_folder = os.path.join(data_folder, 'test_eegs')\n",
    "\n",
    "    def read_npy_folder(folder_path, n_files=None):\n",
    "        arrays = []\n",
    "        files_to_read = os.listdir(folder_path)[:n_files] if n_files else os.listdir(folder_path)\n",
    "        for file in files_to_read:\n",
    "            if file.endswith('.npy'):\n",
    "                file_path = os.path.join(folder_path, file)\n",
    "                array = np.load(file_path)\n",
    "                arrays.append(array)\n",
    "        print(f\"Read {len(arrays)} files from {folder_path}.\")\n",
    "        return arrays\n",
    "\n",
    "    # Read EEG data\n",
    "    train_eeg = read_npy_folder(train_eeg_folder, num_files)\n",
    "    test_eeg = read_npy_folder(test_eeg_folder)\n",
    "\n",
    "    train_labels = pd.read_csv(os.path.join(data_folder, 'train.csv'), nrows=num_files)\n",
    "    test_labels = pd.read_csv(os.path.join(data_folder, 'test.csv'))\n",
    "\n",
    "    return train_eeg, test_eeg, train_labels, test_labels"
   ]
  },
  {
   "cell_type": "code",
   "execution_count": 67,
   "metadata": {
    "ExecuteTime": {
     "end_time": "2024-01-28T12:10:17.112649517Z",
     "start_time": "2024-01-28T12:10:17.077069883Z"
    }
   },
   "outputs": [],
   "source": [
    "def preprocess_eeg(X_train_eeg, target_length=None):\n",
    "    if target_length is not None:\n",
    "        eeg_array = np.array(X_train_eeg)[:target_length].astype(np.float32)\n",
    "    else:\n",
    "        eeg_array = np.array(X_train_eeg).astype(np.float32)\n",
    "    return eeg_array\n",
    "\n",
    "def create_model(input_shape_eeg, num_classes=6):\n",
    "    \"\"\"Create a model that can be trained for variable duration\n",
    "    EEG data.\n",
    "\n",
    "    Args:\n",
    "        input_shape_eeg : shape of one EEG sample\n",
    "        input_shape_spectrogram : shape of one Spectrogram sample\n",
    "        num_classes : 6 for seizure, lpd, gpd, lrda, grda, other\n",
    "\n",
    "    Returns:\n",
    "        keras model\n",
    "    \"\"\"\n",
    "    \n",
    "    model = tf.keras.Sequential([\n",
    "        tf.keras.layers.Masking(mask_value=0, input_shape=input_shape_eeg[1:]),\n",
    "        tf.keras.layers.LSTM(units=64, input_shape=input_shape_eeg[1:], return_sequences=True),\n",
    "        tf.keras.layers.BatchNormalization(),\n",
    "        tf.keras.layers.Dropout(0.4),\n",
    "        tf.keras.layers.LSTM(units=64),\n",
    "        tf.keras.layers.BatchNormalization(),\n",
    "        tf.keras.layers.Dropout(0.4),\n",
    "        tf.keras.layers.Dense(32, activation='relu'),\n",
    "        tf.keras.layers.Dense(num_classes, activation='softmax')\n",
    "    ])\n",
    "    return model\n",
    "\n",
    "def lr_schedule(epoch, lr):\n",
    "    if epoch % 10 == 0 and epoch > 0:\n",
    "        return lr * 0.9\n",
    "    return lr"
   ]
  },
  {
   "cell_type": "code",
   "execution_count": null,
   "metadata": {
    "ExecuteTime": {
     "end_time": "2024-01-28T12:10:24.748826349Z",
     "start_time": "2024-01-28T12:10:17.105073429Z"
    },
    "collapsed": false
   },
   "outputs": [],
   "source": [
    "#convert_parquet_to_npy('data', 'data/npy_data')"
   ]
  },
  {
   "cell_type": "code",
   "execution_count": 129,
   "metadata": {},
   "outputs": [
    {
     "name": "stdout",
     "output_type": "stream",
     "text": [
      "Read 10 files from data/npy_data/npy_data/train_eegs.\n",
      "Read 1 files from data/npy_data/npy_data/test_eegs.\n"
     ]
    }
   ],
   "source": [
    "train,_test,train_labels,_test_labels = read_data('data/npy_data/npy_data',num_files=NUM_FILES)"
   ]
  },
  {
   "cell_type": "code",
   "execution_count": 131,
   "metadata": {
    "ExecuteTime": {
     "end_time": "2024-01-28T12:10:24.791865311Z",
     "start_time": "2024-01-28T12:10:24.750681819Z"
    },
    "collapsed": false
   },
   "outputs": [],
   "source": [
    "Xtrain = np.array(tf.keras.preprocessing.sequence.pad_sequences(train, padding='post', dtype='float32'))\n",
    "labels = pd.read_csv('train.csv', nrows=NUM_FILES)\n",
    "\n",
    "X_train, X_val, y_train, y_val = train_test_split(Xtrain, labels, test_size=0.2, random_state=42, shuffle=True)\n"
   ]
  },
  {
   "cell_type": "code",
   "execution_count": 132,
   "metadata": {
    "ExecuteTime": {
     "end_time": "2024-01-28T12:10:25.687317448Z",
     "start_time": "2024-01-28T12:10:25.652011627Z"
    }
   },
   "outputs": [],
   "source": [
    "y_train = np.array(y_train)\n",
    "y_val = np.array(y_val)"
   ]
  },
  {
   "cell_type": "code",
   "execution_count": 133,
   "metadata": {
    "ExecuteTime": {
     "end_time": "2024-01-28T12:10:25.687953310Z",
     "start_time": "2024-01-28T12:10:25.654741096Z"
    }
   },
   "outputs": [],
   "source": [
    "label_encoder = LabelEncoder()\n",
    "encoded_labels_train = label_encoder.fit_transform(y_train[:, 8])\n",
    "encoded_labels_val = label_encoder.fit_transform(y_val[:, 8])\n",
    "\n",
    "y_train = tf.keras.utils.to_categorical(encoded_labels_train, num_classes=NUM_CLASESS).astype('float32')\n",
    "y_val = tf.keras.utils.to_categorical(encoded_labels_val, num_classes=NUM_CLASESS).astype('float32')"
   ]
  },
  {
   "cell_type": "code",
   "execution_count": 134,
   "metadata": {},
   "outputs": [
    {
     "data": {
      "text/plain": [
       "(94000, 20)"
      ]
     },
     "execution_count": 134,
     "metadata": {},
     "output_type": "execute_result"
    }
   ],
   "source": [
    "X_train[1].shape"
   ]
  },
  {
   "cell_type": "code",
   "execution_count": 135,
   "metadata": {},
   "outputs": [],
   "source": [
    "BATCH_SIZE = 2\n",
    "input_shape_eeg = (BATCH_SIZE,None, 20)\n",
    "out_shape = NUM_CLASESS\n"
   ]
  },
  {
   "cell_type": "code",
   "execution_count": 136,
   "metadata": {},
   "outputs": [
    {
     "data": {
      "text/plain": [
       "(94000, 20)"
      ]
     },
     "execution_count": 136,
     "metadata": {},
     "output_type": "execute_result"
    }
   ],
   "source": [
    "X_train[1].shape"
   ]
  },
  {
   "cell_type": "code",
   "execution_count": 137,
   "metadata": {},
   "outputs": [],
   "source": [
    "model = create_model(input_shape_eeg, out_shape)\n",
    "optimizer = tf.keras.optimizers.Adam(learning_rate=0.001)\n",
    "lr_scheduler = tf.keras.callbacks.LearningRateScheduler(lr_schedule)\n",
    "model.compile(optimizer=optimizer, loss = tf.keras.losses.KLDivergence(), metrics=['accuracy'])\n"
   ]
  },
  {
   "cell_type": "code",
   "execution_count": 138,
   "metadata": {},
   "outputs": [
    {
     "name": "stderr",
     "output_type": "stream",
     "text": [
      "2024-02-17 12:11:43.519237: W tensorflow/core/framework/op_kernel.cc:1839] OP_REQUIRES failed at cudnn_rnn_ops.cc:1771 : UNKNOWN: CUDNN_STATUS_NOT_SUPPORTED\n",
      "in external/local_xla/xla/stream_executor/cuda/cuda_dnn.cc(1782): 'cudnnSetRNNDataDescriptor( data_desc.get(), data_type, layout, max_seq_length, batch_size, data_size, seq_lengths_array, (void*)&padding_fill)'\n",
      "2024-02-17 12:11:43.519287: I tensorflow/core/framework/local_rendezvous.cc:425] Local rendezvous send item cancelled. Key hash: 10764520602590575001\n"
     ]
    },
    {
     "ename": "UnknownError",
     "evalue": "Graph execution error:\n\nDetected at node cond/CudnnRNNV3 defined at (most recent call last):\n  File \"<frozen runpy>\", line 198, in _run_module_as_main\n\n  File \"<frozen runpy>\", line 88, in _run_code\n\n  File \"/home/haroon/miniconda3/envs/tf/lib/python3.11/site-packages/ipykernel_launcher.py\", line 18, in <module>\n\n  File \"/home/haroon/miniconda3/envs/tf/lib/python3.11/site-packages/traitlets/config/application.py\", line 1075, in launch_instance\n\n  File \"/home/haroon/miniconda3/envs/tf/lib/python3.11/site-packages/ipykernel/kernelapp.py\", line 739, in start\n\n  File \"/home/haroon/miniconda3/envs/tf/lib/python3.11/site-packages/tornado/platform/asyncio.py\", line 195, in start\n\n  File \"/home/haroon/miniconda3/envs/tf/lib/python3.11/asyncio/base_events.py\", line 607, in run_forever\n\n  File \"/home/haroon/miniconda3/envs/tf/lib/python3.11/asyncio/base_events.py\", line 1922, in _run_once\n\n  File \"/home/haroon/miniconda3/envs/tf/lib/python3.11/asyncio/events.py\", line 80, in _run\n\n  File \"/home/haroon/miniconda3/envs/tf/lib/python3.11/site-packages/ipykernel/kernelbase.py\", line 542, in dispatch_queue\n\n  File \"/home/haroon/miniconda3/envs/tf/lib/python3.11/site-packages/ipykernel/kernelbase.py\", line 531, in process_one\n\n  File \"/home/haroon/miniconda3/envs/tf/lib/python3.11/site-packages/ipykernel/kernelbase.py\", line 437, in dispatch_shell\n\n  File \"/home/haroon/miniconda3/envs/tf/lib/python3.11/site-packages/ipykernel/ipkernel.py\", line 359, in execute_request\n\n  File \"/home/haroon/miniconda3/envs/tf/lib/python3.11/site-packages/ipykernel/kernelbase.py\", line 775, in execute_request\n\n  File \"/home/haroon/miniconda3/envs/tf/lib/python3.11/site-packages/ipykernel/ipkernel.py\", line 446, in do_execute\n\n  File \"/home/haroon/miniconda3/envs/tf/lib/python3.11/site-packages/ipykernel/zmqshell.py\", line 549, in run_cell\n\n  File \"/home/haroon/miniconda3/envs/tf/lib/python3.11/site-packages/IPython/core/interactiveshell.py\", line 3051, in run_cell\n\n  File \"/home/haroon/miniconda3/envs/tf/lib/python3.11/site-packages/IPython/core/interactiveshell.py\", line 3106, in _run_cell\n\n  File \"/home/haroon/miniconda3/envs/tf/lib/python3.11/site-packages/IPython/core/async_helpers.py\", line 129, in _pseudo_sync_runner\n\n  File \"/home/haroon/miniconda3/envs/tf/lib/python3.11/site-packages/IPython/core/interactiveshell.py\", line 3311, in run_cell_async\n\n  File \"/home/haroon/miniconda3/envs/tf/lib/python3.11/site-packages/IPython/core/interactiveshell.py\", line 3493, in run_ast_nodes\n\n  File \"/home/haroon/miniconda3/envs/tf/lib/python3.11/site-packages/IPython/core/interactiveshell.py\", line 3553, in run_code\n\n  File \"/tmp/ipykernel_3931/1019935880.py\", line 1, in <module>\n\n  File \"/home/haroon/miniconda3/envs/tf/lib/python3.11/site-packages/keras/src/utils/traceback_utils.py\", line 65, in error_handler\n\n  File \"/home/haroon/miniconda3/envs/tf/lib/python3.11/site-packages/keras/src/engine/training.py\", line 1807, in fit\n\n  File \"/home/haroon/miniconda3/envs/tf/lib/python3.11/site-packages/keras/src/engine/training.py\", line 1401, in train_function\n\n  File \"/home/haroon/miniconda3/envs/tf/lib/python3.11/site-packages/keras/src/engine/training.py\", line 1384, in step_function\n\n  File \"/home/haroon/miniconda3/envs/tf/lib/python3.11/site-packages/keras/src/engine/training.py\", line 1373, in run_step\n\n  File \"/home/haroon/miniconda3/envs/tf/lib/python3.11/site-packages/keras/src/engine/training.py\", line 1150, in train_step\n\n  File \"/home/haroon/miniconda3/envs/tf/lib/python3.11/site-packages/keras/src/utils/traceback_utils.py\", line 65, in error_handler\n\n  File \"/home/haroon/miniconda3/envs/tf/lib/python3.11/site-packages/keras/src/engine/training.py\", line 590, in __call__\n\n  File \"/home/haroon/miniconda3/envs/tf/lib/python3.11/site-packages/keras/src/utils/traceback_utils.py\", line 65, in error_handler\n\n  File \"/home/haroon/miniconda3/envs/tf/lib/python3.11/site-packages/keras/src/engine/base_layer.py\", line 1149, in __call__\n\n  File \"/home/haroon/miniconda3/envs/tf/lib/python3.11/site-packages/keras/src/utils/traceback_utils.py\", line 96, in error_handler\n\n  File \"/home/haroon/miniconda3/envs/tf/lib/python3.11/site-packages/keras/src/engine/sequential.py\", line 398, in call\n\n  File \"/home/haroon/miniconda3/envs/tf/lib/python3.11/site-packages/keras/src/engine/functional.py\", line 515, in call\n\n  File \"/home/haroon/miniconda3/envs/tf/lib/python3.11/site-packages/keras/src/engine/functional.py\", line 672, in _run_internal_graph\n\n  File \"/home/haroon/miniconda3/envs/tf/lib/python3.11/site-packages/keras/src/layers/rnn/base_rnn.py\", line 556, in __call__\n\n  File \"/home/haroon/miniconda3/envs/tf/lib/python3.11/site-packages/keras/src/utils/traceback_utils.py\", line 65, in error_handler\n\n  File \"/home/haroon/miniconda3/envs/tf/lib/python3.11/site-packages/keras/src/engine/base_layer.py\", line 1149, in __call__\n\n  File \"/home/haroon/miniconda3/envs/tf/lib/python3.11/site-packages/keras/src/utils/traceback_utils.py\", line 96, in error_handler\n\n  File \"/home/haroon/miniconda3/envs/tf/lib/python3.11/site-packages/keras/src/layers/rnn/lstm.py\", line 749, in call\n\n  File \"/home/haroon/miniconda3/envs/tf/lib/python3.11/site-packages/keras/src/layers/rnn/lstm.py\", line 1342, in lstm_with_backend_selection\n\n  File \"/home/haroon/miniconda3/envs/tf/lib/python3.11/site-packages/keras/src/layers/rnn/gru_lstm_utils.py\", line 272, in function_register\n\n  File \"/home/haroon/miniconda3/envs/tf/lib/python3.11/site-packages/keras/src/layers/rnn/lstm.py\", line 1289, in gpu_lstm_with_fallback\n\n  File \"/home/haroon/miniconda3/envs/tf/lib/python3.11/site-packages/keras/src/layers/rnn/lstm.py\", line 1259, in cudnn_lstm_fn\n\n  File \"/home/haroon/miniconda3/envs/tf/lib/python3.11/site-packages/keras/src/layers/rnn/lstm.py\", line 1113, in gpu_lstm\n\nCUDNN_STATUS_NOT_SUPPORTED\nin external/local_xla/xla/stream_executor/cuda/cuda_dnn.cc(1782): 'cudnnSetRNNDataDescriptor( data_desc.get(), data_type, layout, max_seq_length, batch_size, data_size, seq_lengths_array, (void*)&padding_fill)'\n\t [[{{node cond/CudnnRNNV3}}]]\n\t [[sequential_15/lstm_30/PartitionedCall]] [Op:__inference_train_function_49981]",
     "output_type": "error",
     "traceback": [
      "\u001b[0;31m---------------------------------------------------------------------------\u001b[0m",
      "\u001b[0;31mUnknownError\u001b[0m                              Traceback (most recent call last)",
      "Cell \u001b[0;32mIn[138], line 1\u001b[0m\n\u001b[0;32m----> 1\u001b[0m \u001b[43mmodel\u001b[49m\u001b[38;5;241;43m.\u001b[39;49m\u001b[43mfit\u001b[49m\u001b[43m(\u001b[49m\u001b[43mX_train\u001b[49m\u001b[43m,\u001b[49m\u001b[43m \u001b[49m\u001b[43my_train\u001b[49m\u001b[43m,\u001b[49m\u001b[43m \u001b[49m\u001b[43mepochs\u001b[49m\u001b[38;5;241;43m=\u001b[39;49m\u001b[38;5;241;43m1\u001b[39;49m\u001b[43m,\u001b[49m\u001b[43m \u001b[49m\u001b[43mbatch_size\u001b[49m\u001b[38;5;241;43m=\u001b[39;49m\u001b[43mBATCH_SIZE\u001b[49m\u001b[43m)\u001b[49m\n",
      "File \u001b[0;32m~/miniconda3/envs/tf/lib/python3.11/site-packages/keras/src/utils/traceback_utils.py:70\u001b[0m, in \u001b[0;36mfilter_traceback.<locals>.error_handler\u001b[0;34m(*args, **kwargs)\u001b[0m\n\u001b[1;32m     67\u001b[0m     filtered_tb \u001b[38;5;241m=\u001b[39m _process_traceback_frames(e\u001b[38;5;241m.\u001b[39m__traceback__)\n\u001b[1;32m     68\u001b[0m     \u001b[38;5;66;03m# To get the full stack trace, call:\u001b[39;00m\n\u001b[1;32m     69\u001b[0m     \u001b[38;5;66;03m# `tf.debugging.disable_traceback_filtering()`\u001b[39;00m\n\u001b[0;32m---> 70\u001b[0m     \u001b[38;5;28;01mraise\u001b[39;00m e\u001b[38;5;241m.\u001b[39mwith_traceback(filtered_tb) \u001b[38;5;28;01mfrom\u001b[39;00m \u001b[38;5;28;01mNone\u001b[39;00m\n\u001b[1;32m     71\u001b[0m \u001b[38;5;28;01mfinally\u001b[39;00m:\n\u001b[1;32m     72\u001b[0m     \u001b[38;5;28;01mdel\u001b[39;00m filtered_tb\n",
      "File \u001b[0;32m~/miniconda3/envs/tf/lib/python3.11/site-packages/tensorflow/python/eager/execute.py:53\u001b[0m, in \u001b[0;36mquick_execute\u001b[0;34m(op_name, num_outputs, inputs, attrs, ctx, name)\u001b[0m\n\u001b[1;32m     51\u001b[0m \u001b[38;5;28;01mtry\u001b[39;00m:\n\u001b[1;32m     52\u001b[0m   ctx\u001b[38;5;241m.\u001b[39mensure_initialized()\n\u001b[0;32m---> 53\u001b[0m   tensors \u001b[38;5;241m=\u001b[39m pywrap_tfe\u001b[38;5;241m.\u001b[39mTFE_Py_Execute(ctx\u001b[38;5;241m.\u001b[39m_handle, device_name, op_name,\n\u001b[1;32m     54\u001b[0m                                       inputs, attrs, num_outputs)\n\u001b[1;32m     55\u001b[0m \u001b[38;5;28;01mexcept\u001b[39;00m core\u001b[38;5;241m.\u001b[39m_NotOkStatusException \u001b[38;5;28;01mas\u001b[39;00m e:\n\u001b[1;32m     56\u001b[0m   \u001b[38;5;28;01mif\u001b[39;00m name \u001b[38;5;129;01mis\u001b[39;00m \u001b[38;5;129;01mnot\u001b[39;00m \u001b[38;5;28;01mNone\u001b[39;00m:\n",
      "\u001b[0;31mUnknownError\u001b[0m: Graph execution error:\n\nDetected at node cond/CudnnRNNV3 defined at (most recent call last):\n  File \"<frozen runpy>\", line 198, in _run_module_as_main\n\n  File \"<frozen runpy>\", line 88, in _run_code\n\n  File \"/home/haroon/miniconda3/envs/tf/lib/python3.11/site-packages/ipykernel_launcher.py\", line 18, in <module>\n\n  File \"/home/haroon/miniconda3/envs/tf/lib/python3.11/site-packages/traitlets/config/application.py\", line 1075, in launch_instance\n\n  File \"/home/haroon/miniconda3/envs/tf/lib/python3.11/site-packages/ipykernel/kernelapp.py\", line 739, in start\n\n  File \"/home/haroon/miniconda3/envs/tf/lib/python3.11/site-packages/tornado/platform/asyncio.py\", line 195, in start\n\n  File \"/home/haroon/miniconda3/envs/tf/lib/python3.11/asyncio/base_events.py\", line 607, in run_forever\n\n  File \"/home/haroon/miniconda3/envs/tf/lib/python3.11/asyncio/base_events.py\", line 1922, in _run_once\n\n  File \"/home/haroon/miniconda3/envs/tf/lib/python3.11/asyncio/events.py\", line 80, in _run\n\n  File \"/home/haroon/miniconda3/envs/tf/lib/python3.11/site-packages/ipykernel/kernelbase.py\", line 542, in dispatch_queue\n\n  File \"/home/haroon/miniconda3/envs/tf/lib/python3.11/site-packages/ipykernel/kernelbase.py\", line 531, in process_one\n\n  File \"/home/haroon/miniconda3/envs/tf/lib/python3.11/site-packages/ipykernel/kernelbase.py\", line 437, in dispatch_shell\n\n  File \"/home/haroon/miniconda3/envs/tf/lib/python3.11/site-packages/ipykernel/ipkernel.py\", line 359, in execute_request\n\n  File \"/home/haroon/miniconda3/envs/tf/lib/python3.11/site-packages/ipykernel/kernelbase.py\", line 775, in execute_request\n\n  File \"/home/haroon/miniconda3/envs/tf/lib/python3.11/site-packages/ipykernel/ipkernel.py\", line 446, in do_execute\n\n  File \"/home/haroon/miniconda3/envs/tf/lib/python3.11/site-packages/ipykernel/zmqshell.py\", line 549, in run_cell\n\n  File \"/home/haroon/miniconda3/envs/tf/lib/python3.11/site-packages/IPython/core/interactiveshell.py\", line 3051, in run_cell\n\n  File \"/home/haroon/miniconda3/envs/tf/lib/python3.11/site-packages/IPython/core/interactiveshell.py\", line 3106, in _run_cell\n\n  File \"/home/haroon/miniconda3/envs/tf/lib/python3.11/site-packages/IPython/core/async_helpers.py\", line 129, in _pseudo_sync_runner\n\n  File \"/home/haroon/miniconda3/envs/tf/lib/python3.11/site-packages/IPython/core/interactiveshell.py\", line 3311, in run_cell_async\n\n  File \"/home/haroon/miniconda3/envs/tf/lib/python3.11/site-packages/IPython/core/interactiveshell.py\", line 3493, in run_ast_nodes\n\n  File \"/home/haroon/miniconda3/envs/tf/lib/python3.11/site-packages/IPython/core/interactiveshell.py\", line 3553, in run_code\n\n  File \"/tmp/ipykernel_3931/1019935880.py\", line 1, in <module>\n\n  File \"/home/haroon/miniconda3/envs/tf/lib/python3.11/site-packages/keras/src/utils/traceback_utils.py\", line 65, in error_handler\n\n  File \"/home/haroon/miniconda3/envs/tf/lib/python3.11/site-packages/keras/src/engine/training.py\", line 1807, in fit\n\n  File \"/home/haroon/miniconda3/envs/tf/lib/python3.11/site-packages/keras/src/engine/training.py\", line 1401, in train_function\n\n  File \"/home/haroon/miniconda3/envs/tf/lib/python3.11/site-packages/keras/src/engine/training.py\", line 1384, in step_function\n\n  File \"/home/haroon/miniconda3/envs/tf/lib/python3.11/site-packages/keras/src/engine/training.py\", line 1373, in run_step\n\n  File \"/home/haroon/miniconda3/envs/tf/lib/python3.11/site-packages/keras/src/engine/training.py\", line 1150, in train_step\n\n  File \"/home/haroon/miniconda3/envs/tf/lib/python3.11/site-packages/keras/src/utils/traceback_utils.py\", line 65, in error_handler\n\n  File \"/home/haroon/miniconda3/envs/tf/lib/python3.11/site-packages/keras/src/engine/training.py\", line 590, in __call__\n\n  File \"/home/haroon/miniconda3/envs/tf/lib/python3.11/site-packages/keras/src/utils/traceback_utils.py\", line 65, in error_handler\n\n  File \"/home/haroon/miniconda3/envs/tf/lib/python3.11/site-packages/keras/src/engine/base_layer.py\", line 1149, in __call__\n\n  File \"/home/haroon/miniconda3/envs/tf/lib/python3.11/site-packages/keras/src/utils/traceback_utils.py\", line 96, in error_handler\n\n  File \"/home/haroon/miniconda3/envs/tf/lib/python3.11/site-packages/keras/src/engine/sequential.py\", line 398, in call\n\n  File \"/home/haroon/miniconda3/envs/tf/lib/python3.11/site-packages/keras/src/engine/functional.py\", line 515, in call\n\n  File \"/home/haroon/miniconda3/envs/tf/lib/python3.11/site-packages/keras/src/engine/functional.py\", line 672, in _run_internal_graph\n\n  File \"/home/haroon/miniconda3/envs/tf/lib/python3.11/site-packages/keras/src/layers/rnn/base_rnn.py\", line 556, in __call__\n\n  File \"/home/haroon/miniconda3/envs/tf/lib/python3.11/site-packages/keras/src/utils/traceback_utils.py\", line 65, in error_handler\n\n  File \"/home/haroon/miniconda3/envs/tf/lib/python3.11/site-packages/keras/src/engine/base_layer.py\", line 1149, in __call__\n\n  File \"/home/haroon/miniconda3/envs/tf/lib/python3.11/site-packages/keras/src/utils/traceback_utils.py\", line 96, in error_handler\n\n  File \"/home/haroon/miniconda3/envs/tf/lib/python3.11/site-packages/keras/src/layers/rnn/lstm.py\", line 749, in call\n\n  File \"/home/haroon/miniconda3/envs/tf/lib/python3.11/site-packages/keras/src/layers/rnn/lstm.py\", line 1342, in lstm_with_backend_selection\n\n  File \"/home/haroon/miniconda3/envs/tf/lib/python3.11/site-packages/keras/src/layers/rnn/gru_lstm_utils.py\", line 272, in function_register\n\n  File \"/home/haroon/miniconda3/envs/tf/lib/python3.11/site-packages/keras/src/layers/rnn/lstm.py\", line 1289, in gpu_lstm_with_fallback\n\n  File \"/home/haroon/miniconda3/envs/tf/lib/python3.11/site-packages/keras/src/layers/rnn/lstm.py\", line 1259, in cudnn_lstm_fn\n\n  File \"/home/haroon/miniconda3/envs/tf/lib/python3.11/site-packages/keras/src/layers/rnn/lstm.py\", line 1113, in gpu_lstm\n\nCUDNN_STATUS_NOT_SUPPORTED\nin external/local_xla/xla/stream_executor/cuda/cuda_dnn.cc(1782): 'cudnnSetRNNDataDescriptor( data_desc.get(), data_type, layout, max_seq_length, batch_size, data_size, seq_lengths_array, (void*)&padding_fill)'\n\t [[{{node cond/CudnnRNNV3}}]]\n\t [[sequential_15/lstm_30/PartitionedCall]] [Op:__inference_train_function_49981]"
     ]
    }
   ],
   "source": [
    "model.fit(X_train, y_train, epochs=1, batch_size=BATCH_SIZE)"
   ]
  }
 ],
 "metadata": {
  "kernelspec": {
   "display_name": "tf",
   "language": "python",
   "name": "python3"
  },
  "language_info": {
   "codemirror_mode": {
    "name": "ipython",
    "version": 3
   },
   "file_extension": ".py",
   "mimetype": "text/x-python",
   "name": "python",
   "nbconvert_exporter": "python",
   "pygments_lexer": "ipython3",
   "version": "3.11.7"
  }
 },
 "nbformat": 4,
 "nbformat_minor": 2
}
