{
 "cells": [
  {
   "cell_type": "code",
   "execution_count": 1,
   "metadata": {
    "ExecuteTime": {
     "end_time": "2024-03-12T16:19:47.341773Z",
     "start_time": "2024-03-12T16:19:44.836526Z"
    }
   },
   "outputs": [
    {
     "ename": "ModuleNotFoundError",
     "evalue": "No module named 'tensorboard'",
     "output_type": "error",
     "traceback": [
      "\u001b[1;31m---------------------------------------------------------------------------\u001b[0m",
      "\u001b[1;31mModuleNotFoundError\u001b[0m                       Traceback (most recent call last)",
      "Cell \u001b[1;32mIn[1], line 11\u001b[0m\n\u001b[0;32m      9\u001b[0m \u001b[38;5;28;01mfrom\u001b[39;00m \u001b[38;5;21;01mtorch\u001b[39;00m\u001b[38;5;21;01m.\u001b[39;00m\u001b[38;5;21;01mutils\u001b[39;00m\u001b[38;5;21;01m.\u001b[39;00m\u001b[38;5;21;01mdata\u001b[39;00m \u001b[38;5;28;01mimport\u001b[39;00m Dataset, DataLoader\n\u001b[0;32m     10\u001b[0m \u001b[38;5;28;01mfrom\u001b[39;00m \u001b[38;5;21;01mtorch\u001b[39;00m\u001b[38;5;21;01m.\u001b[39;00m\u001b[38;5;21;01moptim\u001b[39;00m\u001b[38;5;21;01m.\u001b[39;00m\u001b[38;5;21;01mlr_scheduler\u001b[39;00m \u001b[38;5;28;01mimport\u001b[39;00m ReduceLROnPlateau\n\u001b[1;32m---> 11\u001b[0m \u001b[38;5;28;01mfrom\u001b[39;00m \u001b[38;5;21;01mtorch\u001b[39;00m\u001b[38;5;21;01m.\u001b[39;00m\u001b[38;5;21;01mutils\u001b[39;00m\u001b[38;5;21;01m.\u001b[39;00m\u001b[38;5;21;01mtensorboard\u001b[39;00m \u001b[38;5;28;01mimport\u001b[39;00m SummaryWriter\n\u001b[0;32m     12\u001b[0m \u001b[38;5;28;01mfrom\u001b[39;00m \u001b[38;5;21;01mtorchvision\u001b[39;00m \u001b[38;5;28;01mimport\u001b[39;00m transforms\n\u001b[0;32m     13\u001b[0m \u001b[38;5;28;01mimport\u001b[39;00m \u001b[38;5;21;01mtorchvision\u001b[39;00m\u001b[38;5;21;01m.\u001b[39;00m\u001b[38;5;21;01mmodels\u001b[39;00m \u001b[38;5;28;01mas\u001b[39;00m \u001b[38;5;21;01mmodels\u001b[39;00m\n",
      "File \u001b[1;32mc:\\Users\\Haroon\\anaconda3\\envs\\torch\\Lib\\site-packages\\torch\\utils\\tensorboard\\__init__.py:1\u001b[0m\n\u001b[1;32m----> 1\u001b[0m \u001b[38;5;28;01mimport\u001b[39;00m \u001b[38;5;21;01mtensorboard\u001b[39;00m\n\u001b[0;32m      2\u001b[0m \u001b[38;5;28;01mfrom\u001b[39;00m \u001b[38;5;21;01mtorch\u001b[39;00m\u001b[38;5;21;01m.\u001b[39;00m\u001b[38;5;21;01m_vendor\u001b[39;00m\u001b[38;5;21;01m.\u001b[39;00m\u001b[38;5;21;01mpackaging\u001b[39;00m\u001b[38;5;21;01m.\u001b[39;00m\u001b[38;5;21;01mversion\u001b[39;00m \u001b[38;5;28;01mimport\u001b[39;00m Version\n\u001b[0;32m      4\u001b[0m \u001b[38;5;28;01mif\u001b[39;00m \u001b[38;5;129;01mnot\u001b[39;00m \u001b[38;5;28mhasattr\u001b[39m(tensorboard, \u001b[38;5;124m\"\u001b[39m\u001b[38;5;124m__version__\u001b[39m\u001b[38;5;124m\"\u001b[39m) \u001b[38;5;129;01mor\u001b[39;00m Version(\n\u001b[0;32m      5\u001b[0m     tensorboard\u001b[38;5;241m.\u001b[39m__version__\n\u001b[0;32m      6\u001b[0m ) \u001b[38;5;241m<\u001b[39m Version(\u001b[38;5;124m\"\u001b[39m\u001b[38;5;124m1.15\u001b[39m\u001b[38;5;124m\"\u001b[39m):\n",
      "\u001b[1;31mModuleNotFoundError\u001b[0m: No module named 'tensorboard'"
     ]
    }
   ],
   "source": [
    "import os\n",
    "import random\n",
    "import numpy as np\n",
    "import pandas as pd\n",
    "import torch\n",
    "import torch.nn as nn\n",
    "import torch.optim as optim\n",
    "import torch.nn.functional as F\n",
    "from torch.utils.data import Dataset, DataLoader\n",
    "from torch.optim.lr_scheduler import ReduceLROnPlateau\n",
    "from torch.utils.tensorboard import SummaryWriter\n",
    "from torchvision import transforms\n",
    "import torchvision.models as models\n",
    "from sklearn.model_selection import train_test_split\n",
    "from PIL import Image, ImageFilter"
   ]
  },
  {
   "cell_type": "code",
   "execution_count": 3,
   "metadata": {
    "ExecuteTime": {
     "end_time": "2024-03-12T16:19:47.360423Z",
     "start_time": "2024-03-12T16:19:47.342778Z"
    }
   },
   "outputs": [
    {
     "name": "stdout",
     "output_type": "stream",
     "text": [
      "Using device: cuda\n"
     ]
    }
   ],
   "source": [
    "# Parameters\n",
    "NUM_FILES = 1000\n",
    "NUM_CLASSES = 6 \n",
    "IMG_SIZE = (224, 224)  \n",
    "BATCH_SIZE = 32  \n",
    "EPOCHS = 25\n",
    "device = torch.device(\"cuda\" if torch.cuda.is_available() else \"cpu\")\n",
    "print(f\"Using device: {device}\")"
   ]
  },
  {
   "cell_type": "code",
   "execution_count": 4,
   "metadata": {
    "ExecuteTime": {
     "end_time": "2024-03-12T16:19:47.373651Z",
     "start_time": "2024-03-12T16:19:47.361428Z"
    }
   },
   "outputs": [],
   "source": [
    "class SpectrogramDataset(Dataset):\n",
    "    # don't understand data loaders\n",
    "    def __init__(self, spectrograms, _labels, _transform=None) -> None:\n",
    "        self.spectrograms = spectrograms\n",
    "        self.labels = _labels\n",
    "        self.transform = _transform\n",
    "\n",
    "    def __len__(self) -> int:\n",
    "        return len(self.spectrograms)\n",
    "\n",
    "    def __getitem__(self, idx) -> tuple:\n",
    "        spectrogram = self.spectrograms[idx]\n",
    "        label = self.labels[idx]\n",
    "        if self.transform:\n",
    "            spectrogram = Image.fromarray(spectrogram)\n",
    "            if spectrogram.mode != 'RGB':\n",
    "                spectrogram = spectrogram.convert('RGB')\n",
    "            spectrogram = self.transform(spectrogram)\n",
    "        return spectrogram, label\n",
    "\n",
    "\n",
    "def read_data(data_folder, num_files=None) -> tuple[list, list, pd.DataFrame, pd.DataFrame]:\n",
    "    train_spec_folder = os.path.join(data_folder, 'train_spectrograms')\n",
    "    test_spec_folder = os.path.join(data_folder, 'test_spectrograms')\n",
    "\n",
    "    def read_npy_folder(folder_path, n_files=None) -> tuple[list, list]:\n",
    "        arrays = []\n",
    "        filenames = []\n",
    "        files_to_read = os.listdir(folder_path)[:n_files] if n_files else os.listdir(folder_path)\n",
    "        for file in files_to_read:\n",
    "            if file.endswith('.npy'):\n",
    "                file_path = os.path.join(folder_path, file)\n",
    "                array = np.load(file_path)\n",
    "                arrays.append(array)\n",
    "                filenames.append(int(file.split('.')[0]))  # Extracting ID from filename\n",
    "        print(f\"Read {len(arrays)} files from {folder_path}.\")\n",
    "        return arrays, filenames\n",
    "\n",
    "    _train_spec, train_ids = read_npy_folder(train_spec_folder, num_files)\n",
    "    _test_spec, test_ids = read_npy_folder(test_spec_folder)\n",
    "\n",
    "    _train_labels = pd.read_csv(os.path.join(data_folder, 'train.csv'))\n",
    "    _test_labels = pd.read_csv(os.path.join(data_folder, 'test.csv'))\n",
    "\n",
    "    # Filter labels based on matching ID\n",
    "    _train_labels = _train_labels[_train_labels['spectrogram_id'].isin(train_ids)]\n",
    "    _test_labels = _test_labels[_test_labels['spectrogram_id'].isin(test_ids)]\n",
    "\n",
    "    # Limit the number of labels to match the available data\n",
    "    _train_labels = _train_labels.head(len(_train_spec))\n",
    "    _test_labels = _test_labels.head(len(_test_spec))\n",
    "\n",
    "    return _train_spec, _test_spec, _train_labels, _test_labels\n",
    "\n",
    "# Define your model architecture\n",
    "class CNNModel(nn.Module):\n",
    "    def __init__(self, num_classes) -> None:\n",
    "        super(CNNModel, self).__init__()\n",
    "        # Load a pre-trained ResNet model with ImageNet weights\n",
    "        resnet = models.resnet18(weights='IMAGENET1K_V1')\n",
    "        # Remove the fully connected layer and replace it with custom layers\n",
    "        self.features = nn.Sequential(*list(resnet.children())[:-1])\n",
    "        # Add custom fully connected layers\n",
    "        self.fc1 = nn.Linear(resnet.fc.in_features, 128)\n",
    "        self.relu = nn.ReLU(inplace=True)\n",
    "        self.dropout = nn.Dropout(0.5)\n",
    "        self.fc2 = nn.Linear(128, num_classes)\n",
    "        self.batchnorm = nn.BatchNorm1d(128)\n",
    "        \n",
    "    def forward(self, x):\n",
    "        x = self.features(x)\n",
    "        x = torch.flatten(x, 1)\n",
    "        x = self.fc1(x)\n",
    "        x = self.relu(x)\n",
    "        x = self.dropout(x)\n",
    "        x = self.batchnorm(x)\n",
    "        x = self.fc2(x)\n",
    "        return x"
   ]
  },
  {
   "cell_type": "code",
   "execution_count": 5,
   "metadata": {
    "ExecuteTime": {
     "end_time": "2024-03-12T16:19:47.964380Z",
     "start_time": "2024-03-12T16:19:47.375212Z"
    }
   },
   "outputs": [
    {
     "name": "stdout",
     "output_type": "stream",
     "text": [
      "Read 1000 files from data/npy_data/npy_data\\train_spectrograms.\n",
      "Read 1 files from data/npy_data/npy_data\\test_spectrograms.\n"
     ]
    }
   ],
   "source": [
    "# Read data\n",
    "train_spec, test_spec, train_labels, test_labels = read_data('data/npy_data/npy_data', num_files=NUM_FILES)"
   ]
  },
  {
   "cell_type": "code",
   "execution_count": 6,
   "metadata": {
    "ExecuteTime": {
     "end_time": "2024-03-12T16:19:47.970787Z",
     "start_time": "2024-03-12T16:19:47.965386Z"
    }
   },
   "outputs": [
    {
     "data": {
      "text/plain": [
       "(1000, (1000, 15))"
      ]
     },
     "execution_count": 6,
     "metadata": {},
     "output_type": "execute_result"
    }
   ],
   "source": [
    "len(train_spec),train_labels.shape"
   ]
  },
  {
   "cell_type": "code",
   "execution_count": 7,
   "metadata": {
    "ExecuteTime": {
     "end_time": "2024-03-12T16:19:47.976094Z",
     "start_time": "2024-03-12T16:19:47.971795Z"
    }
   },
   "outputs": [],
   "source": [
    "Xt, Xv, yt, yv = train_test_split(\n",
    "    train_spec, train_labels,\n",
    "    test_size=0.2,\n",
    "    random_state=42,\n",
    "    shuffle=True\n",
    ")\n"
   ]
  },
  {
   "cell_type": "code",
   "execution_count": 8,
   "metadata": {
    "ExecuteTime": {
     "end_time": "2024-03-12T16:19:47.985821Z",
     "start_time": "2024-03-12T16:19:47.977100Z"
    }
   },
   "outputs": [
    {
     "data": {
      "text/html": [
       "<div>\n",
       "<style scoped>\n",
       "    .dataframe tbody tr th:only-of-type {\n",
       "        vertical-align: middle;\n",
       "    }\n",
       "\n",
       "    .dataframe tbody tr th {\n",
       "        vertical-align: top;\n",
       "    }\n",
       "\n",
       "    .dataframe thead th {\n",
       "        text-align: right;\n",
       "    }\n",
       "</style>\n",
       "<table border=\"1\" class=\"dataframe\">\n",
       "  <thead>\n",
       "    <tr style=\"text-align: right;\">\n",
       "      <th></th>\n",
       "      <th>seizure_vote</th>\n",
       "      <th>lpd_vote</th>\n",
       "      <th>gpd_vote</th>\n",
       "      <th>lrda_vote</th>\n",
       "      <th>grda_vote</th>\n",
       "      <th>other_vote</th>\n",
       "    </tr>\n",
       "  </thead>\n",
       "  <tbody>\n",
       "    <tr>\n",
       "      <th>298</th>\n",
       "      <td>4</td>\n",
       "      <td>0</td>\n",
       "      <td>2</td>\n",
       "      <td>0</td>\n",
       "      <td>9</td>\n",
       "      <td>1</td>\n",
       "    </tr>\n",
       "    <tr>\n",
       "      <th>6095</th>\n",
       "      <td>0</td>\n",
       "      <td>0</td>\n",
       "      <td>0</td>\n",
       "      <td>0</td>\n",
       "      <td>0</td>\n",
       "      <td>12</td>\n",
       "    </tr>\n",
       "    <tr>\n",
       "      <th>6255</th>\n",
       "      <td>2</td>\n",
       "      <td>2</td>\n",
       "      <td>0</td>\n",
       "      <td>0</td>\n",
       "      <td>0</td>\n",
       "      <td>1</td>\n",
       "    </tr>\n",
       "    <tr>\n",
       "      <th>6117</th>\n",
       "      <td>3</td>\n",
       "      <td>0</td>\n",
       "      <td>0</td>\n",
       "      <td>0</td>\n",
       "      <td>0</td>\n",
       "      <td>0</td>\n",
       "    </tr>\n",
       "    <tr>\n",
       "      <th>51100</th>\n",
       "      <td>0</td>\n",
       "      <td>0</td>\n",
       "      <td>0</td>\n",
       "      <td>0</td>\n",
       "      <td>0</td>\n",
       "      <td>17</td>\n",
       "    </tr>\n",
       "    <tr>\n",
       "      <th>...</th>\n",
       "      <td>...</td>\n",
       "      <td>...</td>\n",
       "      <td>...</td>\n",
       "      <td>...</td>\n",
       "      <td>...</td>\n",
       "      <td>...</td>\n",
       "    </tr>\n",
       "    <tr>\n",
       "      <th>5666</th>\n",
       "      <td>0</td>\n",
       "      <td>0</td>\n",
       "      <td>2</td>\n",
       "      <td>0</td>\n",
       "      <td>2</td>\n",
       "      <td>0</td>\n",
       "    </tr>\n",
       "    <tr>\n",
       "      <th>5830</th>\n",
       "      <td>0</td>\n",
       "      <td>0</td>\n",
       "      <td>0</td>\n",
       "      <td>2</td>\n",
       "      <td>2</td>\n",
       "      <td>11</td>\n",
       "    </tr>\n",
       "    <tr>\n",
       "      <th>51124</th>\n",
       "      <td>0</td>\n",
       "      <td>0</td>\n",
       "      <td>0</td>\n",
       "      <td>3</td>\n",
       "      <td>0</td>\n",
       "      <td>0</td>\n",
       "    </tr>\n",
       "    <tr>\n",
       "      <th>5995</th>\n",
       "      <td>0</td>\n",
       "      <td>0</td>\n",
       "      <td>0</td>\n",
       "      <td>0</td>\n",
       "      <td>3</td>\n",
       "      <td>0</td>\n",
       "    </tr>\n",
       "    <tr>\n",
       "      <th>5662</th>\n",
       "      <td>0</td>\n",
       "      <td>0</td>\n",
       "      <td>2</td>\n",
       "      <td>0</td>\n",
       "      <td>2</td>\n",
       "      <td>0</td>\n",
       "    </tr>\n",
       "  </tbody>\n",
       "</table>\n",
       "<p>800 rows × 6 columns</p>\n",
       "</div>"
      ],
      "text/plain": [
       "       seizure_vote  lpd_vote  gpd_vote  lrda_vote  grda_vote  other_vote\n",
       "298               4         0         2          0          9           1\n",
       "6095              0         0         0          0          0          12\n",
       "6255              2         2         0          0          0           1\n",
       "6117              3         0         0          0          0           0\n",
       "51100             0         0         0          0          0          17\n",
       "...             ...       ...       ...        ...        ...         ...\n",
       "5666              0         0         2          0          2           0\n",
       "5830              0         0         0          2          2          11\n",
       "51124             0         0         0          3          0           0\n",
       "5995              0         0         0          0          3           0\n",
       "5662              0         0         2          0          2           0\n",
       "\n",
       "[800 rows x 6 columns]"
      ]
     },
     "execution_count": 8,
     "metadata": {},
     "output_type": "execute_result"
    }
   ],
   "source": [
    "y_train = yt.iloc[:, 9:]\n",
    "y_val = yv.iloc[:, 9:]\n",
    "pd.DataFrame(y_train)"
   ]
  },
  {
   "cell_type": "code",
   "execution_count": 9,
   "metadata": {
    "ExecuteTime": {
     "end_time": "2024-03-12T16:19:47.993771Z",
     "start_time": "2024-03-12T16:19:47.986826Z"
    }
   },
   "outputs": [],
   "source": [
    "y_train = y_train.apply(pd.to_numeric, errors='coerce')\n",
    "y_train.fillna(0, inplace=True)\n",
    "y_train_normalized = y_train.div(y_train.sum(axis=1), axis=0)\n",
    "weights = y_train.sum(axis=1)  # Calculate weights based on number of voters per row\n",
    "y_train_normalized = y_train_normalized.mul(weights, axis=0)\n",
    "y_train_normalized = y_train_normalized.div(y_train_normalized.sum(axis=1), axis=0)\n",
    "y_train = torch.tensor(y_train_normalized.values, dtype=torch.float32)"
   ]
  },
  {
   "cell_type": "code",
   "execution_count": 10,
   "metadata": {
    "ExecuteTime": {
     "end_time": "2024-03-12T16:19:48.000942Z",
     "start_time": "2024-03-12T16:19:47.994775Z"
    }
   },
   "outputs": [],
   "source": [
    "y_val = y_val.apply(pd.to_numeric, errors='coerce')\n",
    "y_val.fillna(0, inplace=True)\n",
    "y_val_normalized = y_val.div(y_val.sum(axis=1), axis=0)\n",
    "weights = y_val.sum(axis=1)\n",
    "y_val_normalized = y_val_normalized.mul(weights, axis=0)\n",
    "y_val_normalized = y_val_normalized.div(y_val_normalized.sum(axis=1), axis=0)\n",
    "y_val = torch.tensor(y_val_normalized.values, dtype=torch.float32)"
   ]
  },
  {
   "cell_type": "code",
   "execution_count": 11,
   "metadata": {
    "ExecuteTime": {
     "end_time": "2024-03-12T16:19:48.008393Z",
     "start_time": "2024-03-12T16:19:48.002947Z"
    }
   },
   "outputs": [
    {
     "data": {
      "text/plain": [
       "(True, True)"
      ]
     },
     "execution_count": 11,
     "metadata": {},
     "output_type": "execute_result"
    }
   ],
   "source": [
    "np.allclose(y_train_normalized.sum(axis=1), 1),np.allclose(y_val_normalized.sum(axis=1), 1)"
   ]
  },
  {
   "cell_type": "code",
   "execution_count": 12,
   "metadata": {
    "ExecuteTime": {
     "end_time": "2024-03-12T16:19:49.044737Z",
     "start_time": "2024-03-12T16:19:48.009398Z"
    }
   },
   "outputs": [],
   "source": [
    "model = CNNModel(num_classes=NUM_CLASSES)\n",
    "model.to(device)\n",
    "transform = transforms.Compose([\n",
    "    transforms.Resize(IMG_SIZE),  \n",
    "    transforms.ToTensor(),       \n",
    "    transforms.Normalize(mean=[0.5, 0.5, 0.5], std=[0.5, 0.5, 0.5]) \n",
    "])\n",
    "\n",
    "train_dataset = SpectrogramDataset(Xt, y_train, _transform=transform)\n",
    "val_dataset = SpectrogramDataset(Xv, y_val, _transform=transform)\n",
    "train_loader = DataLoader(train_dataset, batch_size=BATCH_SIZE, shuffle=True)\n",
    "val_loader = DataLoader(val_dataset, batch_size=BATCH_SIZE)\n",
    "\n",
    "criterion = nn.KLDivLoss(reduction='batchmean')\n",
    "optimizer = optim.Adam(model.parameters(), lr=0.001)"
   ]
  },
  {
   "cell_type": "code",
   "execution_count": 13,
   "metadata": {
    "ExecuteTime": {
     "end_time": "2024-03-12T16:19:49.049634Z",
     "start_time": "2024-03-12T16:19:49.045744Z"
    }
   },
   "outputs": [
    {
     "data": {
      "text/plain": [
       "(800, 200)"
      ]
     },
     "execution_count": 13,
     "metadata": {},
     "output_type": "execute_result"
    }
   ],
   "source": [
    "len(train_dataset),len(val_dataset)"
   ]
  },
  {
   "cell_type": "code",
   "execution_count": 14,
   "metadata": {
    "ExecuteTime": {
     "end_time": "2024-03-12T16:19:49.053043Z",
     "start_time": "2024-03-12T16:19:49.050641Z"
    }
   },
   "outputs": [],
   "source": [
    "# callbacks\n"
   ]
  },
  {
   "cell_type": "code",
   "execution_count": 15,
   "metadata": {
    "ExecuteTime": {
     "end_time": "2024-03-12T16:22:12.777614Z",
     "start_time": "2024-03-12T16:19:49.054239Z"
    }
   },
   "outputs": [
    {
     "name": "stdout",
     "output_type": "stream",
     "text": [
      "Epoch 1/25, Training Loss: 1.5689\n",
      "Epoch 1/25, Validation Loss: 587.8748\n",
      "Epoch 3/25, Training Loss: 1.4480\n",
      "Epoch 3/25, Validation Loss: 3.6557\n",
      "Epoch 5/25, Training Loss: 1.4892\n",
      "Epoch 5/25, Validation Loss: 2.3749\n",
      "Epoch 7/25, Training Loss: 1.5317\n",
      "Epoch 7/25, Validation Loss: 2.0434\n",
      "Epoch 9/25, Training Loss: 1.5350\n",
      "Epoch 9/25, Validation Loss: 11.0226\n",
      "Epoch 11/25, Training Loss: 1.7429\n",
      "Epoch 11/25, Validation Loss: 2.6825\n",
      "Epoch 13/25, Training Loss: 1.6043\n",
      "Epoch 13/25, Validation Loss: 1.7556\n",
      "Epoch 15/25, Training Loss: 1.6241\n",
      "Epoch 15/25, Validation Loss: 1.4898\n",
      "Epoch 17/25, Training Loss: 1.6367\n",
      "Epoch 17/25, Validation Loss: 1.9048\n",
      "Epoch 19/25, Training Loss: 1.7128\n",
      "Epoch 19/25, Validation Loss: 2.0493\n",
      "Epoch 21/25, Training Loss: 1.5788\n",
      "Epoch 21/25, Validation Loss: 1.8451\n",
      "Epoch 23/25, Training Loss: 1.7487\n",
      "Epoch 23/25, Validation Loss: 1.8630\n",
      "Epoch 25/25, Training Loss: 1.6709\n",
      "Epoch 25/25, Validation Loss: 2.1100\n"
     ]
    }
   ],
   "source": [
    "train_losses = []\n",
    "val_losses = []\n",
    "\n",
    "for epoch in range(EPOCHS):\n",
    "    model.train()\n",
    "    running_loss = 0.0\n",
    "    for inputs, labels in train_loader:\n",
    "        inputs, labels = inputs.to(device), labels.to(device)  \n",
    "        outputs = model(inputs)\n",
    "        loss = criterion(F.log_softmax(outputs, dim=1), labels)\n",
    "        loss.backward()\n",
    "        optimizer.step()\n",
    "        running_loss += loss.item() * inputs.size(0)\n",
    "    \n",
    "    epoch_loss = running_loss / len(train_loader.dataset)\n",
    "    train_losses.append(epoch_loss)  # Store training loss for this epoch\n",
    "    \n",
    "    if epoch % 2 == 0:\n",
    "        print(f\"Epoch {epoch+1}/{EPOCHS}, Training Loss: {epoch_loss:.4f}\")\n",
    "\n",
    "    # Validation\n",
    "    model.eval()\n",
    "    validation_loss = 0.0\n",
    "    with torch.no_grad():\n",
    "        for inputs, labels in val_loader:\n",
    "            inputs, labels = inputs.to(device), labels.to(device)  \n",
    "            outputs = model(inputs)\n",
    "            loss = criterion(F.log_softmax(outputs, dim=1), labels)\n",
    "            validation_loss += loss.item() * inputs.size(0)\n",
    "\n",
    "    epoch_val_loss = validation_loss / len(val_loader.dataset)\n",
    "    val_losses.append(epoch_val_loss)  # Store validation loss for this epoch\n",
    "    \n",
    "    if epoch % 2 == 0:\n",
    "        print(f\"Epoch {epoch+1}/{EPOCHS}, Validation Loss: {epoch_val_loss:.4f}\")\n"
   ]
  },
  {
   "cell_type": "code",
   "execution_count": 16,
   "metadata": {
    "ExecuteTime": {
     "end_time": "2024-03-12T16:22:12.836235Z",
     "start_time": "2024-03-12T16:22:12.778618Z"
    }
   },
   "outputs": [],
   "source": [
    "torch.save(model, os.getcwd() + \"/saved_models/model_resnet18_2\")\n",
    "# model = torch.load(os.getcwd() + \"/saved_models/model\")"
   ]
  },
  {
   "cell_type": "code",
   "execution_count": 18,
   "metadata": {
    "ExecuteTime": {
     "end_time": "2024-03-12T16:22:30.142289Z",
     "start_time": "2024-03-12T16:22:30.038834Z"
    },
    "collapsed": false
   },
   "outputs": [
    {
     "data": {
      "image/png": "[encoded data removed]",
      "text/plain": [
       "<Figure size 640x480 with 1 Axes>"
      ]
     },
     "metadata": {},
     "output_type": "display_data"
    }
   ],
   "source": [
    "import  matplotlib.pyplot as plt\n",
    "plt.plot(train_losses, label='Training Loss')\n",
    "plt.plot(val_losses, label='Validation Loss')\n",
    "plt.legend()\n",
    "plt.show()"
   ]
  }
 ],
 "metadata": {
  "kernelspec": {
   "display_name": "torch",
   "language": "python",
   "name": "python3"
  },
  "language_info": {
   "codemirror_mode": {
    "name": "ipython",
    "version": 3
   },
   "file_extension": ".py",
   "mimetype": "text/x-python",
   "name": "python",
   "nbconvert_exporter": "python",
   "pygments_lexer": "ipython3",
   "version": "3.11.8"
  }
 },
 "nbformat": 4,
 "nbformat_minor": 2
}
